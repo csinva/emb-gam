{
 "cells": [
  {
   "cell_type": "code",
   "execution_count": 3,
   "metadata": {},
   "outputs": [
    {
     "name": "stdout",
     "output_type": "stream",
     "text": [
      "The autoreload extension is already loaded. To reload it, use:\n",
      "  %reload_ext autoreload\n"
     ]
    }
   ],
   "source": [
    "%load_ext autoreload\n",
    "%autoreload 2\n",
    "import os\n",
    "import matplotlib.pyplot as plt\n",
    "import seaborn as sns\n",
    "from os.path import join\n",
    "from tqdm import tqdm\n",
    "import pandas as pd\n",
    "import joblib\n",
    "import imodelsx.process_results\n",
    "import sys\n",
    "sys.path.append('../experiments/')\n",
    "results_dir = '../results/'"
   ]
  },
  {
   "attachments": {},
   "cell_type": "markdown",
   "metadata": {},
   "source": [
    "Load the results into a pandas dataframe"
   ]
  },
  {
   "cell_type": "code",
   "execution_count": 4,
   "metadata": {},
   "outputs": [
    {
     "name": "stderr",
     "output_type": "stream",
     "text": [
      "100%|██████████| 3/3 [00:00<00:00, 2117.27it/s]\n"
     ]
    }
   ],
   "source": [
    "r = imodelsx.process_results.get_results_df(results_dir)\n",
    "experiment_filename = '../experiments/01_eval.py'\n",
    "r = imodelsx.process_results.fill_missing_args_with_default(\n",
    "    r, experiment_filename)"
   ]
  },
  {
   "cell_type": "code",
   "execution_count": 5,
   "metadata": {},
   "outputs": [
    {
     "data": {
      "text/html": [
       "<div>\n",
       "<style scoped>\n",
       "    .dataframe tbody tr th:only-of-type {\n",
       "        vertical-align: middle;\n",
       "    }\n",
       "\n",
       "    .dataframe tbody tr th {\n",
       "        vertical-align: top;\n",
       "    }\n",
       "\n",
       "    .dataframe thead th {\n",
       "        text-align: right;\n",
       "    }\n",
       "</style>\n",
       "<table border=\"1\" class=\"dataframe\">\n",
       "  <thead>\n",
       "    <tr style=\"text-align: right;\">\n",
       "      <th></th>\n",
       "      <th>dataset_name</th>\n",
       "      <th>checkpoint</th>\n",
       "      <th>ngrams</th>\n",
       "      <th>use_all_ngrams</th>\n",
       "      <th>use_next_token_distr_embedding</th>\n",
       "      <th>embedding_string_prompt</th>\n",
       "      <th>seed</th>\n",
       "      <th>save_dir</th>\n",
       "      <th>model_name</th>\n",
       "      <th>use_cache</th>\n",
       "      <th>batch_size</th>\n",
       "      <th>save_dir_unique</th>\n",
       "      <th>roc_val</th>\n",
       "      <th>acc_val</th>\n",
       "      <th>acc_baseline</th>\n",
       "      <th>mean_pred</th>\n",
       "    </tr>\n",
       "  </thead>\n",
       "  <tbody>\n",
       "    <tr>\n",
       "      <th>0</th>\n",
       "      <td>rotten_tomatoes</td>\n",
       "      <td>textattack/distilbert-base-uncased-rotten-toma...</td>\n",
       "      <td>2</td>\n",
       "      <td>1</td>\n",
       "      <td>0</td>\n",
       "      <td>None</td>\n",
       "      <td>1</td>\n",
       "      <td>/home/chansingh/augmented-interpretable-models...</td>\n",
       "      <td>decision_tree</td>\n",
       "      <td>1</td>\n",
       "      <td>8</td>\n",
       "      <td>/home/chansingh/augmented-interpretable-models...</td>\n",
       "      <td>0.62</td>\n",
       "      <td>0.593333</td>\n",
       "      <td>0.486667</td>\n",
       "      <td>0.56</td>\n",
       "    </tr>\n",
       "    <tr>\n",
       "      <th>1</th>\n",
       "      <td>rotten_tomatoes</td>\n",
       "      <td>bert-base-uncased</td>\n",
       "      <td>2</td>\n",
       "      <td>1</td>\n",
       "      <td>0</td>\n",
       "      <td>None</td>\n",
       "      <td>1</td>\n",
       "      <td>/home/chansingh/augmented-interpretable-models...</td>\n",
       "      <td>decision_tree</td>\n",
       "      <td>1</td>\n",
       "      <td>8</td>\n",
       "      <td>/home/chansingh/augmented-interpretable-models...</td>\n",
       "      <td>0.49</td>\n",
       "      <td>0.506667</td>\n",
       "      <td>0.486667</td>\n",
       "      <td>0.70</td>\n",
       "    </tr>\n",
       "    <tr>\n",
       "      <th>2</th>\n",
       "      <td>rotten_tomatoes</td>\n",
       "      <td>hkunlp/instructor-xl</td>\n",
       "      <td>2</td>\n",
       "      <td>1</td>\n",
       "      <td>0</td>\n",
       "      <td>instructor_sentiment</td>\n",
       "      <td>1</td>\n",
       "      <td>/home/chansingh/augmented-interpretable-models...</td>\n",
       "      <td>decision_tree</td>\n",
       "      <td>1</td>\n",
       "      <td>8</td>\n",
       "      <td>/home/chansingh/augmented-interpretable-models...</td>\n",
       "      <td>0.62</td>\n",
       "      <td>0.626667</td>\n",
       "      <td>0.486667</td>\n",
       "      <td>0.50</td>\n",
       "    </tr>\n",
       "  </tbody>\n",
       "</table>\n",
       "</div>"
      ],
      "text/plain": [
       "      dataset_name                                         checkpoint  ngrams  \\\n",
       "0  rotten_tomatoes  textattack/distilbert-base-uncased-rotten-toma...       2   \n",
       "1  rotten_tomatoes                                  bert-base-uncased       2   \n",
       "2  rotten_tomatoes                               hkunlp/instructor-xl       2   \n",
       "\n",
       "   use_all_ngrams  use_next_token_distr_embedding embedding_string_prompt  \\\n",
       "0               1                               0                    None   \n",
       "1               1                               0                    None   \n",
       "2               1                               0    instructor_sentiment   \n",
       "\n",
       "   seed                                           save_dir     model_name  \\\n",
       "0     1  /home/chansingh/augmented-interpretable-models...  decision_tree   \n",
       "1     1  /home/chansingh/augmented-interpretable-models...  decision_tree   \n",
       "2     1  /home/chansingh/augmented-interpretable-models...  decision_tree   \n",
       "\n",
       "   use_cache  batch_size                                    save_dir_unique  \\\n",
       "0          1           8  /home/chansingh/augmented-interpretable-models...   \n",
       "1          1           8  /home/chansingh/augmented-interpretable-models...   \n",
       "2          1           8  /home/chansingh/augmented-interpretable-models...   \n",
       "\n",
       "   roc_val   acc_val  acc_baseline  mean_pred  \n",
       "0     0.62  0.593333      0.486667       0.56  \n",
       "1     0.49  0.506667      0.486667       0.70  \n",
       "2     0.62  0.626667      0.486667       0.50  "
      ]
     },
     "execution_count": 5,
     "metadata": {},
     "output_type": "execute_result"
    }
   ],
   "source": [
    "r"
   ]
  }
 ],
 "metadata": {
  "kernelspec": {
   "display_name": ".embgam",
   "language": "python",
   "name": "python3"
  },
  "language_info": {
   "codemirror_mode": {
    "name": "ipython",
    "version": 3
   },
   "file_extension": ".py",
   "mimetype": "text/x-python",
   "name": "python",
   "nbconvert_exporter": "python",
   "pygments_lexer": "ipython3",
   "version": "3.11.7"
  },
  "orig_nbformat": 4,
  "vscode": {
   "interpreter": {
    "hash": "559535f78d940c882783b39501b2581b5193373045707e5f8a51d046029cfd38"
   }
  }
 },
 "nbformat": 4,
 "nbformat_minor": 2
}
