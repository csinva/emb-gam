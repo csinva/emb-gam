{
 "cells": [
  {
   "cell_type": "code",
   "execution_count": null,
   "metadata": {},
   "outputs": [],
   "source": [
    "%load_ext autoreload\n",
    "%autoreload 2\n",
    "import numpy as np\n",
    "from copy import deepcopy\n",
    "import sys\n",
    "import datasets\n",
    "import matplotlib.pyplot as plt\n",
    "import numpy as np\n",
    "sys.path.append('../experiments/')\n",
    "import os\n",
    "import scipy\n",
    "import pandas as pd\n",
    "import numpy as np\n",
    "import transformers\n",
    "import sys\n",
    "from os.path import join\n",
    "import datasets\n",
    "from dict_hash import sha256\n",
    "import numpy as np\n",
    "from torch.autograd import grad\n",
    "import torch\n",
    "from tqdm import tqdm\n",
    "from transformers import AutoTokenizer, AutoModelForCausalLM\n",
    "import imodelsx.llm\n",
    "import word_distr\n",
    "import re\n",
    "import warnings"
   ]
  },
  {
   "cell_type": "code",
   "execution_count": null,
   "metadata": {},
   "outputs": [],
   "source": [
    "checkpoint = 'gpt2-xl'\n",
    "prefix = 'My favorite ice cream flavor is'\n",
    "model = imodelsx.llm.load_hf_model(checkpoint)\n",
    "tokenizer = imodelsx.llm.load_tokenizer(checkpoint)\n",
    "d = word_distr.get_next_word_distr(\n",
    "    prefix,\n",
    "    model,\n",
    "    tokenizer,\n",
    "    num_tokens=2,\n",
    "    cdf_threshold=0.7,\n",
    "    batch_size=2048,\n",
    ")\n",
    "d"
   ]
  },
  {
   "cell_type": "markdown",
   "metadata": {},
   "source": [
    "### Brute force search everything (just to check)"
   ]
  },
  {
   "cell_type": "code",
   "execution_count": null,
   "metadata": {},
   "outputs": [],
   "source": [
    "prefix_embs = tokenizer.encode(prefix, return_tensors=\"pt\")[0]\n",
    "input_ids_tok1 = [\n",
    "    torch.concatenate(\n",
    "        (prefix_embs, torch.LongTensor([i])))\n",
    "    for i in range(voc_size)\n",
    "]\n",
    "input_ids_tok1 = torch.stack(input_ids_tok1)"
   ]
  },
  {
   "cell_type": "code",
   "execution_count": null,
   "metadata": {},
   "outputs": [],
   "source": [
    "bigram_logits = np.zeros((voc_size, voc_size), dtype=np.double)\n",
    "unigram_logits = get_unigram_logits(prefix, tokenizer, model)\n",
    "for i in tqdm(range(0, voc_size, batch_size)):\n",
    "    input_ids = input_ids_tok1[i:i + batch_size]\n",
    "    bigram_logits[i:i + batch_size] = \\\n",
    "        model(input_ids).logits[:, -1, :].detach().cpu().numpy()"
   ]
  },
  {
   "cell_type": "code",
   "execution_count": null,
   "metadata": {},
   "outputs": [],
   "source": [
    "# normalize\n",
    "unigram1_probs = scipy.special.softmax(unigram_logits).flatten()\n",
    "unigram2_probs = scipy.special.softmax(bigram_logits, axis=1)\n",
    "assert np.allclose(unigram1_probs.sum(), 1)"
   ]
  },
  {
   "cell_type": "code",
   "execution_count": null,
   "metadata": {},
   "outputs": [],
   "source": [
    "# multiply each row of unigram2_probs by the corresponding value in unigram_probs\n",
    "bigram_probs = unigram2_probs * unigram1_probs[:, None]\n",
    "assert np.allclose(bigram_probs.sum(axis=1), unigram1_probs, atol=1e-6)\n",
    "assert np.allclose(bigram_probs.sum(), 1, atol=1e-6)\n",
    "print('shapes', bigram_probs.shape)"
   ]
  },
  {
   "cell_type": "code",
   "execution_count": null,
   "metadata": {},
   "outputs": [],
   "source": [
    "np.cumsum(unigram1_probs.astype(np.float32))"
   ]
  },
  {
   "cell_type": "code",
   "execution_count": null,
   "metadata": {},
   "outputs": [],
   "source": [
    "bigram_probs.shape"
   ]
  },
  {
   "cell_type": "code",
   "execution_count": null,
   "metadata": {},
   "outputs": [],
   "source": [
    "unigram1_probs.shape"
   ]
  },
  {
   "cell_type": "code",
   "execution_count": null,
   "metadata": {},
   "outputs": [],
   "source": [
    "unigram1_probs.sum()"
   ]
  },
  {
   "cell_type": "code",
   "execution_count": null,
   "metadata": {},
   "outputs": [],
   "source": [
    "bigram_probs.sum()"
   ]
  },
  {
   "cell_type": "code",
   "execution_count": null,
   "metadata": {},
   "outputs": [],
   "source": [
    "(bigram_probs.sum(axis=1) - unigram1_probs).min()"
   ]
  },
  {
   "cell_type": "code",
   "execution_count": null,
   "metadata": {},
   "outputs": [],
   "source": [
    "# find top 100 bigrams (row, col) pairs - this took like 20 mins\n",
    "bigram_probs_flat = bigram_probs.flatten()\n",
    "bigram_probs_flat_sorted = np.sort(bigram_probs_flat)[::-1]\n",
    "bigram_probs_flat_sorted_idx = np.argsort(bigram_probs_flat)[::-1]\n",
    "bigram_probs_sorted = bigram_probs_flat_sorted.reshape(bigram_probs.shape)\n",
    "bigram_probs_sorted_idx = np.unravel_index(\n",
    "    bigram_probs_flat_sorted_idx, bigram_probs.shape)\n",
    "bigram_probs_sorted_idx = np.stack(bigram_probs_sorted_idx, axis=1)\n",
    "bigram_probs_sorted_idx = bigram_probs_sorted_idx[:100]"
   ]
  },
  {
   "cell_type": "code",
   "execution_count": null,
   "metadata": {},
   "outputs": [],
   "source": [
    "top_bigrams = tokenizer.batch_decode(bigram_probs_sorted_idx)"
   ]
  }
 ],
 "metadata": {
  "kernelspec": {
   "display_name": ".llm",
   "language": "python",
   "name": "python3"
  },
  "language_info": {
   "codemirror_mode": {
    "name": "ipython",
    "version": 3
   },
   "file_extension": ".py",
   "mimetype": "text/x-python",
   "name": "python",
   "nbconvert_exporter": "python",
   "pygments_lexer": "ipython3",
   "version": "3.11.9"
  },
  "orig_nbformat": 4,
  "vscode": {
   "interpreter": {
    "hash": "a9ff692d44ea03fd8a03facee7621117bbbb82def09bacaacf0a2cbc238b7b91"
   }
  }
 },
 "nbformat": 4,
 "nbformat_minor": 2
}
