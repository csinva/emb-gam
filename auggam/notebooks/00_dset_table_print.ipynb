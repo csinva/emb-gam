{
 "cells": [
  {
   "cell_type": "code",
   "execution_count": null,
   "metadata": {},
   "outputs": [],
   "source": [
    "import numpy as np\n",
    "import pandas as pd\n",
    "from copy import deepcopy\n",
    "from collections import defaultdict\n",
    "import matplotlib.pyplot as plt\n",
    "from auggam import analyze_helper\n",
    "import pickle as pkl\n",
    "df = pd.read_csv('../results/datasets_ovw.csv', index_col=0)"
   ]
  },
  {
   "cell_type": "code",
   "execution_count": null,
   "metadata": {},
   "outputs": [],
   "source": [
    "def prep_for_printing(df):\n",
    "    df = df.sort_values('n_train')\n",
    "    df['num_classes'] = df.pop('num_classes') # move imbalance to end\n",
    "    df['imbalance'] = df.pop('imbalance') # move imbalance to end\n",
    "    df = df.infer_objects()\n",
    "    for i in range(len(df.columns)):\n",
    "        col_name = df.columns[i]\n",
    "        if not 'imbalance' in col_name:\n",
    "            df[col_name] = df[col_name].astype(int)\n",
    "        else:\n",
    "            df[col_name] = df[col_name].round(2).astype(str)\n",
    "    df = df.rename(\n",
    "        columns=analyze_helper.COLUMNS_RENAME_DICT,\n",
    "        index=analyze_helper.DSETS_RENAME_DICT,\n",
    "    ).sort_index()\n",
    "        \n",
    "    return df\n",
    "\n",
    "pd.options.display.float_format = '{:,}'.format\n",
    "col_order = ['Financial phrasebank', 'Rotten tomatoes', 'SST2', 'Emotion', 'Tweet (Hate)']\n",
    "print(prep_for_printing(df).transpose().to_latex())"
   ]
  },
  {
   "cell_type": "code",
   "execution_count": null,
   "metadata": {},
   "outputs": [],
   "source": [
    "prep_for_printing(df).transpose()[]"
   ]
  },
  {
   "cell_type": "markdown",
   "metadata": {},
   "source": [
    "**Print info about counts (manually copied this into the table)**"
   ]
  },
  {
   "cell_type": "code",
   "execution_count": null,
   "metadata": {},
   "outputs": [],
   "source": [
    "counts = pkl.load(open('results/datasets_ovw.pkl', 'rb'))\n",
    "def plot_counts(counts):\n",
    "    x = np.array(counts[0].tolist()).squeeze()\n",
    "    plt.hist(x, bins=100)\n",
    "    plt.yscale('log')\n",
    "    plt.xlabel('Count of occurences of trigram in training dataset')\n",
    "    plt.ylabel('Count of trigrams')\n",
    "# plot_counts(counts['emotion_trigram'])\n",
    "for dset_name in df.index.values:\n",
    "    counts_dset = np.array(counts[dset_name + '_trigram']).squeeze()\n",
    "    print(f'{(counts_dset == 1).sum() /  len(counts_dset):0.2f}', end = ' & ')"
   ]
  },
  {
   "cell_type": "code",
   "execution_count": null,
   "metadata": {},
   "outputs": [],
   "source": [
    "import datasets\n",
    "d = datasets.load_dataset('super_glue', 'cb')"
   ]
  },
  {
   "cell_type": "code",
   "execution_count": null,
   "metadata": {},
   "outputs": [],
   "source": [
    "d"
   ]
  },
  {
   "cell_type": "code",
   "execution_count": null,
   "metadata": {},
   "outputs": [],
   "source": [
    "dt = d['train']"
   ]
  },
  {
   "cell_type": "code",
   "execution_count": null,
   "metadata": {},
   "outputs": [],
   "source": [
    "np.unique(dt['coarse_label'])"
   ]
  },
  {
   "cell_type": "code",
   "execution_count": null,
   "metadata": {},
   "outputs": [],
   "source": []
  },
  {
   "cell_type": "code",
   "execution_count": null,
   "metadata": {},
   "outputs": [],
   "source": [
    "dts"
   ]
  },
  {
   "cell_type": "code",
   "execution_count": null,
   "metadata": {},
   "outputs": [],
   "source": []
  }
 ],
 "metadata": {
  "kernelspec": {
   "display_name": "Python 3.8.10 ('.embgam')",
   "language": "python",
   "name": "python3"
  },
  "language_info": {
   "codemirror_mode": {
    "name": "ipython",
    "version": 3
   },
   "file_extension": ".py",
   "mimetype": "text/x-python",
   "name": "python",
   "nbconvert_exporter": "python",
   "pygments_lexer": "ipython3",
   "version": "3.11.4"
  },
  "vscode": {
   "interpreter": {
    "hash": "1706cf08143e086ec5bb3838ad8d537cfb8b4c6b8cff053a62227f927355451f"
   }
  }
 },
 "nbformat": 4,
 "nbformat_minor": 4
}
