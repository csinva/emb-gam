{
 "cells": [
  {
   "cell_type": "code",
   "execution_count": 2,
   "metadata": {},
   "outputs": [],
   "source": [
    "import numpy as np\n",
    "import pandas as pd\n",
    "from copy import deepcopy\n",
    "from collections import defaultdict\n",
    "import matplotlib.pyplot as plt\n",
    "from auggam import analyze_helper\n",
    "import pickle as pkl\n",
    "# df = pd.read_csv('../results/datasets_ovw.csv', index_col=0)"
   ]
  },
  {
   "cell_type": "code",
   "execution_count": 6,
   "metadata": {},
   "outputs": [
    {
     "name": "stdout",
     "output_type": "stream",
     "text": [
      "\\begin{tabular}{llllll}\n",
      "\\toprule\n",
      "{} & Emotion & Financial phrasebank & Rotten tomatoes &    SST2 & Tweet (Hate) \\\\\n",
      "\\midrule\n",
      "Samples (train)         &   16000 &                 2313 &            8530 &   67349 &         9000 \\\\\n",
      "Samples (val)           &    2000 &                 1140 &            1066 &     872 &         1000 \\\\\n",
      "Unigrams                &   15165 &                 7169 &           16631 &   13887 &        18477 \\\\\n",
      "Bigrams                 &  106201 &                28481 &           93921 &   72501 &       106277 \\\\\n",
      "Trigrams                &  201404 &                39597 &          147426 &  108800 &       171768 \\\\\n",
      "Classes                 &       6 &                    3 &               2 &       2 &            2 \\\\\n",
      "Majority class fraction &    0.34 &                 0.62 &             0.5 &    0.56 &         0.58 \\\\\n",
      "\\bottomrule\n",
      "\\end{tabular}\n",
      "\n"
     ]
    },
    {
     "name": "stderr",
     "output_type": "stream",
     "text": [
      "/tmp/ipykernel_3437291/469346702.py:20: FutureWarning: In future versions `DataFrame.to_latex` is expected to utilise the base implementation of `Styler.to_latex` for formatting and rendering. The arguments signature may therefore change. It is recommended instead to use `DataFrame.style.to_latex` which also contains additional functionality.\n",
      "  print(prep_for_printing(df).transpose().to_latex())\n"
     ]
    }
   ],
   "source": [
    "def prep_for_printing(df):\n",
    "    df = df.sort_values('n_train')\n",
    "    df['num_classes'] = df.pop('num_classes') # move imbalance to end\n",
    "    df['imbalance'] = df.pop('imbalance') # move imbalance to end\n",
    "    df = df.infer_objects()\n",
    "    for i in range(len(df.columns)):\n",
    "        col_name = df.columns[i]\n",
    "        if not 'imbalance' in col_name:\n",
    "            df[col_name] = df[col_name].astype(int)\n",
    "        else:\n",
    "            df[col_name] = df[col_name].round(2).astype(str)\n",
    "    df = df.rename(\n",
    "        columns=analyze_helper.COLUMNS_RENAME_DICT,\n",
    "        index=analyze_helper.DSETS_RENAME_DICT,\n",
    "    ).sort_index()\n",
    "        \n",
    "    return df\n",
    "\n",
    "pd.options.display.float_format = '{:,}'.format\n",
    "col_order = ['Financial phrasebank', 'Rotten tomatoes', 'SST2', 'Emotion', 'Tweet (Hate)']\n",
    "print(prep_for_printing(df).transpose().to_latex())"
   ]
  },
  {
   "cell_type": "code",
   "execution_count": 10,
   "metadata": {},
   "outputs": [
    {
     "data": {
      "text/html": [
       "<div>\n",
       "<style scoped>\n",
       "    .dataframe tbody tr th:only-of-type {\n",
       "        vertical-align: middle;\n",
       "    }\n",
       "\n",
       "    .dataframe tbody tr th {\n",
       "        vertical-align: top;\n",
       "    }\n",
       "\n",
       "    .dataframe thead th {\n",
       "        text-align: right;\n",
       "    }\n",
       "</style>\n",
       "<table border=\"1\" class=\"dataframe\">\n",
       "  <thead>\n",
       "    <tr style=\"text-align: right;\">\n",
       "      <th></th>\n",
       "      <th>Financial phrasebank</th>\n",
       "      <th>Rotten tomatoes</th>\n",
       "      <th>SST2</th>\n",
       "      <th>Emotion</th>\n",
       "      <th>Tweet (Hate)</th>\n",
       "    </tr>\n",
       "  </thead>\n",
       "  <tbody>\n",
       "    <tr>\n",
       "      <th>Samples (train)</th>\n",
       "      <td>2313</td>\n",
       "      <td>8530</td>\n",
       "      <td>67349</td>\n",
       "      <td>16000</td>\n",
       "      <td>9000</td>\n",
       "    </tr>\n",
       "    <tr>\n",
       "      <th>Samples (val)</th>\n",
       "      <td>1140</td>\n",
       "      <td>1066</td>\n",
       "      <td>872</td>\n",
       "      <td>2000</td>\n",
       "      <td>1000</td>\n",
       "    </tr>\n",
       "    <tr>\n",
       "      <th>Unigrams</th>\n",
       "      <td>7169</td>\n",
       "      <td>16631</td>\n",
       "      <td>13887</td>\n",
       "      <td>15165</td>\n",
       "      <td>18477</td>\n",
       "    </tr>\n",
       "    <tr>\n",
       "      <th>Bigrams</th>\n",
       "      <td>28481</td>\n",
       "      <td>93921</td>\n",
       "      <td>72501</td>\n",
       "      <td>106201</td>\n",
       "      <td>106277</td>\n",
       "    </tr>\n",
       "    <tr>\n",
       "      <th>Trigrams</th>\n",
       "      <td>39597</td>\n",
       "      <td>147426</td>\n",
       "      <td>108800</td>\n",
       "      <td>201404</td>\n",
       "      <td>171768</td>\n",
       "    </tr>\n",
       "    <tr>\n",
       "      <th>Classes</th>\n",
       "      <td>3</td>\n",
       "      <td>2</td>\n",
       "      <td>2</td>\n",
       "      <td>6</td>\n",
       "      <td>2</td>\n",
       "    </tr>\n",
       "    <tr>\n",
       "      <th>Majority class fraction</th>\n",
       "      <td>0.62</td>\n",
       "      <td>0.5</td>\n",
       "      <td>0.56</td>\n",
       "      <td>0.34</td>\n",
       "      <td>0.58</td>\n",
       "    </tr>\n",
       "  </tbody>\n",
       "</table>\n",
       "</div>"
      ],
      "text/plain": [
       "                        Financial phrasebank Rotten tomatoes    SST2 Emotion  \\\n",
       "Samples (train)                         2313            8530   67349   16000   \n",
       "Samples (val)                           1140            1066     872    2000   \n",
       "Unigrams                                7169           16631   13887   15165   \n",
       "Bigrams                                28481           93921   72501  106201   \n",
       "Trigrams                               39597          147426  108800  201404   \n",
       "Classes                                    3               2       2       6   \n",
       "Majority class fraction                 0.62             0.5    0.56    0.34   \n",
       "\n",
       "                        Tweet (Hate)  \n",
       "Samples (train)                 9000  \n",
       "Samples (val)                   1000  \n",
       "Unigrams                       18477  \n",
       "Bigrams                       106277  \n",
       "Trigrams                      171768  \n",
       "Classes                            2  \n",
       "Majority class fraction         0.58  "
      ]
     },
     "execution_count": 10,
     "metadata": {},
     "output_type": "execute_result"
    }
   ],
   "source": [
    "prep_for_printing(df).transpose()[]"
   ]
  },
  {
   "cell_type": "markdown",
   "metadata": {},
   "source": [
    "**Print info about counts (manually copied this into the table)**"
   ]
  },
  {
   "cell_type": "code",
   "execution_count": null,
   "metadata": {},
   "outputs": [],
   "source": [
    "counts = pkl.load(open('results/datasets_ovw.pkl', 'rb'))\n",
    "def plot_counts(counts):\n",
    "    x = np.array(counts[0].tolist()).squeeze()\n",
    "    plt.hist(x, bins=100)\n",
    "    plt.yscale('log')\n",
    "    plt.xlabel('Count of occurences of trigram in training dataset')\n",
    "    plt.ylabel('Count of trigrams')\n",
    "# plot_counts(counts['emotion_trigram'])\n",
    "for dset_name in df.index.values:\n",
    "    counts_dset = np.array(counts[dset_name + '_trigram']).squeeze()\n",
    "    print(f'{(counts_dset == 1).sum() /  len(counts_dset):0.2f}', end = ' & ')"
   ]
  },
  {
   "cell_type": "code",
   "execution_count": 39,
   "metadata": {},
   "outputs": [
    {
     "name": "stdout",
     "output_type": "stream",
     "text": [
      "Downloading and preparing dataset super_glue/cb to /home/chansingh/.cache/huggingface/datasets/super_glue/cb/1.0.3/bb9675f958ebfee0d5d6dc5476fafe38c79123727a7258d515c450873dbdbbed...\n"
     ]
    },
    {
     "data": {
      "application/vnd.jupyter.widget-view+json": {
       "model_id": "fbe8afedf13c43c49bed083ba42a4b2d",
       "version_major": 2,
       "version_minor": 0
      },
      "text/plain": [
       "Downloading data:   0%|          | 0.00/75.5k [00:00<?, ?B/s]"
      ]
     },
     "metadata": {},
     "output_type": "display_data"
    },
    {
     "data": {
      "application/vnd.jupyter.widget-view+json": {
       "model_id": "7eac34a6c8994abea8ea5cb12b2c3191",
       "version_major": 2,
       "version_minor": 0
      },
      "text/plain": [
       "Generating train split:   0%|          | 0/250 [00:00<?, ? examples/s]"
      ]
     },
     "metadata": {},
     "output_type": "display_data"
    },
    {
     "data": {
      "application/vnd.jupyter.widget-view+json": {
       "model_id": "83420f0366bd42f3907b12c250cb1bd8",
       "version_major": 2,
       "version_minor": 0
      },
      "text/plain": [
       "Generating validation split:   0%|          | 0/56 [00:00<?, ? examples/s]"
      ]
     },
     "metadata": {},
     "output_type": "display_data"
    },
    {
     "data": {
      "application/vnd.jupyter.widget-view+json": {
       "model_id": "d4b23adab2b940f48a9c72b201bb45ca",
       "version_major": 2,
       "version_minor": 0
      },
      "text/plain": [
       "Generating test split:   0%|          | 0/250 [00:00<?, ? examples/s]"
      ]
     },
     "metadata": {},
     "output_type": "display_data"
    },
    {
     "name": "stdout",
     "output_type": "stream",
     "text": [
      "Dataset super_glue downloaded and prepared to /home/chansingh/.cache/huggingface/datasets/super_glue/cb/1.0.3/bb9675f958ebfee0d5d6dc5476fafe38c79123727a7258d515c450873dbdbbed. Subsequent calls will reuse this data.\n"
     ]
    },
    {
     "data": {
      "application/vnd.jupyter.widget-view+json": {
       "model_id": "6e5b85fa97da442786e7acec4bc8068b",
       "version_major": 2,
       "version_minor": 0
      },
      "text/plain": [
       "  0%|          | 0/3 [00:00<?, ?it/s]"
      ]
     },
     "metadata": {},
     "output_type": "display_data"
    }
   ],
   "source": [
    "import datasets\n",
    "d = datasets.load_dataset('super_glue', 'cb')"
   ]
  },
  {
   "cell_type": "code",
   "execution_count": 40,
   "metadata": {},
   "outputs": [
    {
     "data": {
      "text/plain": [
       "DatasetDict({\n",
       "    train: Dataset({\n",
       "        features: ['premise', 'hypothesis', 'idx', 'label'],\n",
       "        num_rows: 250\n",
       "    })\n",
       "    validation: Dataset({\n",
       "        features: ['premise', 'hypothesis', 'idx', 'label'],\n",
       "        num_rows: 56\n",
       "    })\n",
       "    test: Dataset({\n",
       "        features: ['premise', 'hypothesis', 'idx', 'label'],\n",
       "        num_rows: 250\n",
       "    })\n",
       "})"
      ]
     },
     "execution_count": 40,
     "metadata": {},
     "output_type": "execute_result"
    }
   ],
   "source": [
    "d"
   ]
  },
  {
   "cell_type": "code",
   "execution_count": 36,
   "metadata": {},
   "outputs": [],
   "source": [
    "dt = d['train']"
   ]
  },
  {
   "cell_type": "code",
   "execution_count": 37,
   "metadata": {},
   "outputs": [
    {
     "data": {
      "text/plain": [
       "array([0, 1, 2, 3, 4, 5])"
      ]
     },
     "execution_count": 37,
     "metadata": {},
     "output_type": "execute_result"
    }
   ],
   "source": [
    "np.unique(dt['coarse_label'])"
   ]
  },
  {
   "cell_type": "code",
   "execution_count": 14,
   "metadata": {},
   "outputs": [],
   "source": []
  },
  {
   "cell_type": "code",
   "execution_count": 15,
   "metadata": {},
   "outputs": [
    {
     "data": {
      "text/plain": [
       "{'text': ['Measured Fed Rate Hike Sends Stocks Up  NEW YORK (Reuters) - U.S. stocks rose on Wednesday after  the Federal Reserve reassured by indicating that further  interest-rate rises were likely to remain at a \"measured\" pace,  as it increased rates by a quarter point.',\n",
       "  'Judge in London gives okay to let premature baby die LONDON : Doctors caring for a critically-ill premature baby, Charlotte Wyatt, were given permission by a British judge to allow her to die if her condition seriously deteriorates and her breathing stops.',\n",
       "  'Astros Beat Cards, Take NLCS Series Lead HOUSTON - On a night when pitching suddenly took over the NL playoffs, someone was bound to get a hit. Fortunately for the Houston Astros, Jeff Kent stepped up...',\n",
       "  'NVIDIA Is Vindicated The graphics chip company recaptures the high-end segment and quadruples profits.',\n",
       "  'Apple launches 60GB, 40GB iPod Photo At a special music event featuring Bono and The Edge from U2, Apple yesterday unveiled the iPod Photo with a colour screen, available immediately in 40GB or 60GB versions.',\n",
       "  'Corporate taxes melting away Some of the United States #39; biggest, most profitable corporations saw their federal income tax rates decline over the last three years, thanks to recent tax cuts, according to a liberal think tank in Washington.',\n",
       "  \"Honors for Nude Lit, Fish Farts Recipients of this year's Ig Nobel Prizes, which honor the best in oddball research, run the gamut from a nudist library to a psychology experiment featuring a man in a gorilla suit to a recent finding that herrings communicate by farting. By Mark Baard.\",\n",
       "  'Cingular Acquires AT amp;T Wireless, the Real Work Begins Now On 26 October 2004, Cingular Wireless acquired AT amp;T Wireless services after receiving final clearance from the US Federal Communications Commission.',\n",
       "  'Update 1: Nigerian Union Suspends Looming Strike Nigeria #39;s main labor union on Monday indefinitely suspended a looming nationwide strike that had threatened to shut down the oil industry in the world #39;s No.',\n",
       "  'Stocks Fall As Oil Climbs Past \\\\$55 Mark NEW YORK - Nervous investors sent stocks mostly lower Monday as a barrel of crude topped \\\\$55 per barrel, yet another record. Only the Nasdaq composite index posted a meager gain...',\n",
       "  'Night flights fuel dispute BRUSSELS The Belgian government struggled Tuesday to settle a dispute over a proposed increase in night flights over Brussels, a problem that could cost the country thousands of jobs with the international shipper DHL.',\n",
       "  'Combatants brutally raped tens of thousands in Congo: Amnesty report (Canadian Press) Canadian Press - KINSHASA, Congo (AP) - Armed combatants have brutally raped tens of  thousands of women, girls and babies in war-ravaged Congo, and many are dying \"needlessly\" because the country\\'s health care system is incapable of dealing with the crisis, an international rights group said Tuesday.',\n",
       "  'United pilots #39; cooperation on pensions expected to affect other &lt;b&gt;...&lt;/b&gt; CHICAGO _ The leaders of United Airlines pilots union have agreed to accept a 15 percent pay cut and not oppose the elimination of their pension plan, setting a precedent both ',\n",
       "  'U.N. Envoy Says Rights Violations Continue in Myanmar  BANGKOK (Reuters) - A top U.N. rights envoy condemned on  Wednesday the arrest and jailing of opposition activists in  military-ruled Myanmar and said he had received credible  reports of rights violations in border areas.',\n",
       "  'Microsoft dodges anti-spyware charge accusations According to a story on CNN #39;s Web site, the software giant #39;s recent acquisition of anti-spyware company GIANT might mean users have to pay in order to benefit from the added security to Microsoft applications.',\n",
       "  'Fannie Mae chief defends accounting WASHINGTON - Fannie Mae chief Franklin Raines told Congress on Wednesday that the huge mortgage company did not intentionally manipulate earnings to boost executives #39; bonuses.',\n",
       "  'Northwest Cancels a Travel Agency Fee Northwest Airlines said yesterday that it had canceled a new fee it charged travel agencies for a round-trip domestic ticket booked through global distribution systems, effective immediately.',\n",
       "  'Citigroup Elevates Krawcheck to CFO Post  NEW YORK (Reuters) - Citigroup Inc. &lt;A HREF=\"http://www.investor.reuters.com/FullQuote.aspx?ticker=C.N target=/stocks/quickinfo/fullquote\"&gt;C.N&lt;/A&gt; named Sallie  Krawcheck chief financial officer on Monday, extending her  reach across the world\\'s largest financial services company and  bolstering her image as Wall Street\\'s most powerful woman.',\n",
       "  'Myanmar #39;s foreign minister, deputy fired MYANMAR #39;S military junta yesterday dismissed the Foreign Minister and his deputy in an unexpected Cabinet reshuffle that saw two other ministers also fired.',\n",
       "  'Schaefer, Ehrlich Spar Over Tax Shelter Maryland Gov. Robert L. Ehrlich Jr. is considering a plan to reopen a large corporate tax loophole the General Assembly closed over his objections this year, according to state tax officials.',\n",
       "  'DVD Forum approves HD-DVD RW standard The DVD Forum has approved the physical disc specifications for the rewritable version of HD-DVDs (High Definition/High Density-DVDs), taking the format an important step nearer to mass production.',\n",
       "  'United Argues It May Terminate Pensions CHICAGO - United Airlines would be within its rights to terminate its employee pension plans but hasn\\'t yet decided to do so, an attorney for the carrier said Friday, as two unions urged a judge to block a financing plan they say is predicated on the airline halting fund contributions.    The hearing came a day after the release of court papers in which United warned it \"likely\" will have to end those pension funds in order to secure the loans it needs to get out of bankruptcy...',\n",
       "  'Oil price in suspense about the impact of OPEC output cuts Crude oil futures begin to factor in colder weather in the US Northeast and OPEC decision to cut production to keep the prices high.',\n",
       "  'Tourism #39;s new frontier It was a staple of 1960s science fiction that the future would involve flying cars and holidays on the moon. While the mass-production flying car hasn #39;t yet hit the showrooms, the prospects for space tourism have taken a few steps closer.',\n",
       "  'Update 13: Greenspan Sounds Alert on Social Security Federal Reserve Chairman Alan Greenspan has done it again. For at least the fourth time this year, he has touched the electrified third rail of American politics - Social Security.',\n",
       "  \"AOL Creates Its Own Browsing Software (AP) AP - As part of its reincarnation, America Online Inc. is creating its own software for browsing the Web and playing movies and songs. It's a question of staying relevant in an increasingly broadband world.\",\n",
       "  'Saddam Meets Lawyer, Aides Due in Court (AP) AP - Saddam Hussein met with a defense lawyer Thursday for the first time since his capture a year ago, days before several of his top aides are due to appear in court for hearings on alleged war crimes.',\n",
       "  'Economy Adds 337,000 New Jobs Hard on the heels of Mr. Bush #39;s election victory comes a Labor Department report that shows employers added 337,000 new jobs to the economy in October.',\n",
       "  'Shaq #39;s 40 help Heat dominate Wizards MIAMI - Playing without his sidekick for more than a half Monday, Shaquille O #39;Neal resembled the player who has been unstoppable for most of his 14 years in the NBA.',\n",
       "  'Bed Bath   Beyond Debt-Free The leading home-goods retailer keeps its balance sheet clean and delivers strong results.',\n",
       "  'One Shell boosts Eurostocks The oil company #39;s plans to move to a unified corporate structure extend rally into third day. LONDON (Reuters) - European shares rose for a third straight session Thursday, led by Royal Dutch/Shell on news ',\n",
       "  'The chicken and the genome Scientists have analyzed the genetic makeup of chickens, and it is providing valuable information about how human genes work. Washington University Genome Sequencing Center led a group of international researchers ',\n",
       "  'Wolves appoint Hoddle Former England boss Glenn Hoddle has been appointed manager of Wolverhampton Wanderers, the club says. Hoddle, who has been out of management since being sacked by Tottenham Hotspur in September ',\n",
       "  'Russia Could Finish Kyoto Approval by Year-End (Reuters) Reuters - Russia could ratify the Kyoto Protocol\\\\by the end of the year and kick-start global attempts to\\\\control climate change, Deputy Prime Minister Alexander Zhukov\\\\said on Thursday.',\n",
       "  'Israelis secure Gaza buffer zone Israeli troops seize a nine-kilometre area in Gaza to try to stop Palestinian rocket attacks inside Israeli towns.',\n",
       "  'Quebec to cut welfare payments for young recipients who are able to work (Canadian Press) Canadian Press - QUEBEC (CP) - Able-bodied young people who live with their parents will see their monthly welfare payments cut next year, the Quebec government announced Tuesday.',\n",
       "  'Risk norms for home, consumer loan to avoid asset bubble: RBI: Business India: Mumbai, Oct 26 : Reserve Bank of India today said it will clamp risk containment norms and raise risk weightage for housing and consumer credit to avoid  quot;asset bubble quot; like condition and ensure sustainable growth in credit to these ',\n",
       "  'InterContinental Hotels eases out CEO InterContinental Hotels, the world #39;s biggest hotelier, has eased out chief executive Richard North to make way for a career hotelier with brand-building skills to drive forward the business.',\n",
       "  'Parcells hints Henson has good chance of opening at QB Dallas Cowboys coach Bill Parcells shied away from serious talk about rookie Drew Henson playing quarterback in Thursday #39;s game in a conference call with Chicago media Tuesday, but admitted to hometown writers there is a  quot;good chance #39; #39; he will make his ',\n",
       "  \"Biopure seeks OK to boost stock sales Biopure Corp. is running out of money -- again. Recent regulatory filings, including one yesterday, show the Cambridge blood-substitute developer seeking the financial flexibility it says it will need to keep operating after January. That's when it expects to use up the \\\\$7 million it raised through a stock sale in September.\",\n",
       "  'Delta Auditor Concerned About Airline Delta Air Lines (DAL.N: Quote, Profile, Research) said on Wednesday its auditors have expressed doubt about the airline #39;s financial viability.',\n",
       "  'Smith to Start at Quarterback for Ohio St. (AP) AP - With Justin Zwick hindered by a slightly separated shoulder, Troy Smith will start at quarterback for Ohio State on Saturday against Indiana.',\n",
       "  \"Hopefuls in the homestretch It's still a month from the final vote, but make no mistake, the Heisman Trophy race is heating up. Starting tomorrow, and continuing through the first week of December, the candidates will strut their stuff.\",\n",
       "  \"Iraqi Cleric Calls Cease-fire After Bloody Uprising  BAGHDAD (Reuters) - Rebel Shi'ite cleric Moqtada al-Sadr  has ordered his militia to end attacks on U.S. and Iraqi  government forces and will soon unveil plans to pursue his  goals through politics rather than conflict, aides said Monday.\",\n",
       "  'Notre Dame sure can pick  #39;em It takes a lion #39;s share of guts and bravado to provoke Michigan #39;s receiving corps, especially for a defensive back without any career interceptions.',\n",
       "  'Beta Search Engine iZito Supports Human Search Behavior Beta Search Engine iZito Supports Human Search Behavior\\\\\\\\iZito has launched a new meta-search engine that makes searching on the Internet easier and quicker. iZito has developed a \"rich user interface\" (RUI) which searchers can use to organize, adjust and even \\'park\\' search results for later viewing. iZito claims to be ...',\n",
       "  'Update 2: Huntsman Corp. Attempts to Go Public Eager to shed its mounting debt, chemical giant Huntsman International LLC announced plans Monday to go public in a move analysts say is timed to take advantage of an improving market for basic materials.',\n",
       "  '5/11 Afridi towers over the Kenyans LONDON, September 15: Pakistan sent out a warning to India before their Champions Trophy Group C showdown with a seven-wicket demolition of Kenya at Edgbaston on Wednesday.',\n",
       "  \"Dell, Novell expand partnership to push Linux Dell and Novell today announced plans to offer Novell SUSE Linux Enterprise Server 9 on Dell's single- and dual-processor PowerEdge servers worldwide.\",\n",
       "  'Adobe enters home video editing fray Adding to its offerings for digital imaging and video hobbyists, Adobe Systems on Wednesday announced a new video-editing package and an update to its Photoshop Elements image-editing product.',\n",
       "  'Intel Tests Long-Range Wireless Chip Intel is testing a new chip, dubbed  quot;Rosedale, quot; designed for long-distance, high-speed, wireless Internet access (WiMax).',\n",
       "  'Amazon offers discount to A9 search users Online retailer Amazon.com Inc is offering a 1.57 per cent shopping discount to registered users of its new A9 Web search service as a way to increase A9 use and promote buying on Amazon, the company #39;s Web site showed on Friday.',\n",
       "  'Iraqis release kidnapped US journalist Kidnapped US journalist Micah Garen was recovering from his ordeal in Iraq Monday after being released on the orders of rebel cleric Moqtada Sadr.',\n",
       "  'Philips Warns on Chip Unit Sales Europe #39;s top consumer electronics group Philips cut the forecast for its closely-watched semiconductor unit on Friday, saying it expects third quarter sales to be flat from the second rather than rising.',\n",
       "  'Google search program gets jump on Microsoft Internet search leader Google Inc. yesterday introduced Google Desktop Search, a free program that creates an index of the files on a user #39;s own computer.',\n",
       "  'Right on course He will tell you the story because it embodies so much of who he is and where he came from. There is no denying he became hooked on golf at an early age -- 7 to be precise -- and that he was a genuine phenom and that he could never get enough of it.  quot;I was very ...',\n",
       "  'US Air, Pilots Union in Tentative Pact  NEW YORK (Reuters) - US Airways Group Inc. &lt;A HREF=\"http://www.investor.reuters.com/FullQuote.aspx?ticker=UAIRQ.PK target=/stocks/quickinfo/fullquote\"&gt;UAIRQ.PK&lt;/A&gt; said  on Friday it reached a tentative agreement with its pilots  union that would save \\\\$300 million annually and move the  bankrupt airline closer to carrying out a transformation plan.',\n",
       "  'Arafat reportedly in a coma ILL HEALTH -- Under a portrait of Palestinian leader Yasser Arafat, Prime Minister Ahmed Qureia talks to journalists after an emergency Fatah Central Committee meeting at Arafat #39;s headquarters in the West Bank town of Ramallah, Thursday.',\n",
       "  \"Learning to Search for Life on Mars with the Atacama Rover Ames Research Center -- A dedicated team of scientists is spending the next four weeks in northern Chile's Atacama Desert. They are studying the scarce life that exists there and, in the process, helping NASA learn more about how primitive life forms could exist on Mars...\",\n",
       "  'Sheffield Says He Unknowingly Used Steroids New York Yankees slugger Gary Sheffield says he unknowingly used an illegal steroid obtained from BALCO during the 2002 season, Major League Baseball #39;s official Web Site said Tuesday quoting a magazine article.',\n",
       "  'Toutatis to whiz past Earth A mountain-sized asteroid will make its closest approach to Earth at 9:35 am EDT (7.05 pm IST) tomorrow, reports NASA. Although asteroid 4179 Toutatis will come no closer than four times the distance between ',\n",
       "  \"India lukewarm on Kashmir proposal NEW DELHI -- One day after Pakistan's president proposed a demilitarization of the violence-racked Himalayan region of Kashmir, India's response was notably lukewarm, with an official making clear the proposal should not have been made first to reporters.\",\n",
       "  'Tech Stocks Edge Higher, Lifted by Dell  NEW YORK (Reuters) - Stocks rose slightly on Friday,  boosted by computer maker Dell Inc. &lt;A HREF=\"http://www.investor.reuters.com/FullQuote.aspx?ticker=DELL.O target=/stocks/quickinfo/fullquote\"&gt;DELL.O&lt;/A&gt;, but gains were  small as Wall Street took a breather after Thursday\\'s rally.',\n",
       "  \"Cell Phones Focus on 4 Megapixels Mitsubishi's new technology should lead to handsets with high-resolution cameras by next year.\",\n",
       "  'Enter your e-mail: This has been a big week for future technology in San Francisco: Intel filled much of Moscone Center with the Intel Developer Forum, its technical conference on the cool stuff it has up its sleeve, from CPU speed bumps to new wireless networking standards ',\n",
       "  'Federated Earnings Up 10 Percent in 3Q The retailing giant Federated Department Stores Inc. on Wednesday reported a 10 percent increase in third-quarter earnings, citing improvements after Florida hurricanes hurt September sales.',\n",
       "  'Stewart #39;s lawyers file 89-page appeal Even as she adjusts to prison life, Martha Stewart continues to try to clear her name. In an 89-page appeal filed Thursday, Stewart #39;s lawyers urged the US Circuit Court here to ',\n",
       "  'Proxim and Symbol make nice com September 14, 2004, 9:12 AM PT. With the economy slowly turning up, upgrading hardware has been on businesses radar in the past 12 months as their number two priority.',\n",
       "  'The writing #39;s on the wall for Hong Kong #39;s last revolutionary haunt The one thing that #39;s misleading about Club 64 is its name. With its echoes of Studio 57 in New York and its desirable location at the heart of Hong Kong Central, you might expect it to be just another glitzy bar or nightspot.',\n",
       "  \"Gaddafi asks for Bigley's release Libyan leader Colonel Gaddafi has appealed for the British hostage in Iraq Ken Bigley to be freed, reports say.\",\n",
       "  'AstraZeneca and GSK shares rocked by safety concerns By Stephen Foley in London and Katherine Griffiths in New York. More than 6bn was wiped off the value of the UK #39;s two giant pharmaceuticals companies yesterday as they and the US regulator attempted to quell a furore over drug safety.',\n",
       "  'Bruce #39;s fury at racist taunts Steve Bruce today revealed he was  #39;sickened #39; by the racist taunting of striker Dwight Yorke. The Blues manager and the Trinidad  amp; Tobago star, 33, were due to meet today to decide ',\n",
       "  'Web-Based Tool Helps Voters Find Polls With most states reporting massive new voter registrations and many political observers worrying about potential voter confusion and allegations of fraud on Nov.2, one organization has created a web-based tool to answer questions and provide information.',\n",
       "  'American Express sues Visa, MasterCard and 8 banks NEW YORK - Travel- and financial-services giant American Express Co. on Monday sued Visa and MasterCard as well as eight banks for damages stemming from anti-competitive practices that prevented American Express from issuing cards through US banks.',\n",
       "  'UN Mission Sends Military Team to Investigate Fighting in Eastern &lt;b&gt;...&lt;/b&gt; Following reports of fighting between different factions of former members of the Armed Forces of the Democratic Republic of the Congo (FARDC) and weapons distribution to civilians in North Kivu province, the United Nations mission today said it sent a ',\n",
       "  \"Microsoft: 1Q Earnings Up 11 Percent (AP) AP - Microsoft Corp. said its fiscal first-quarter earnings rose 11 percent, beating analysts' expectations, as the software company benefited from stronger-than-expected computer and server shipments.\",\n",
       "  'Dollar rallies, but continued weakness expected The dollar rallied after dropping to a record low yesterday against the euro amid uncertainty about whether officials would intervene to curb the currency #39;s slide.',\n",
       "  'Foreigners flee Ivory Coast The United Nations and France have begun mass evacuations of UN staff and foreign nationals following days of violence and looting in Ivory Coast, a UN spokesman said.',\n",
       "  'Cink Leads Soaking NEC Leader Stewart Cink played eight holes Friday morning to polish off a first-round 7-under 63 at the NEC Invitational and was at 8 under when play was suspended.',\n",
       "  'English Premier League match reports Champions Arsenal dropped their first points of the season when a late Henrik Pedersen equaliser earned Bolton a point. The Danish substitute poked home the ball after 85 minutes to deny Arsene Wenger #39;s team their sixth win in six Premier League games.',\n",
       "  'Some talk isn #39;t cheap Dale Earnhardt Jr. #39;s swearword in a TV interview after his victory at Talladega costs him the NASCAR points lead and \\\\$10,000. A slip of the tongue on TV cost Dale Earnhardt Jr.',\n",
       "  'Methane link strengthens life-on-Mars theory Paris - The European Space Agency (ESA) said on Monday that it had found concentrations of water vapour and the gas methane in the same places on Mars, a finding which strengthens speculation that the Red Planet could be a haven for microbial life.',\n",
       "  'Court ruling tightens net on Pinochet FORMER Chilean dictator Augusto Pinochet is a step closer to being tried for atrocities committed under his 1973-1990 regime after a court stripped him of immunity from prosecution.',\n",
       "  'Widely Used Bike Lock Can Be Picked With Pen SAN DIEGO -- You don #39;t have to be the Man of Steel to open a Kryptonite bike lock. A video circulating on the Internet shows how to pick a Kryptonite lock with a ballpoint pen.',\n",
       "  'Africa and its children Second of three parts URAMO BEACH, Nigeria -- It was just a shack made of cardboard and bamboo.',\n",
       "  'Infocus: Deploying Network Access Quarantine Control, Part 1 This article discusses Network Access Quarantine Control with Windows Server 2003, which allows administrators to quarantine mobile users before giving them full network access, by first ensuring these machines are up-to-date according to a baseline security model.',\n",
       "  'Lawyer: Cop Not Responsible For Snelgrove Death BOSTON -- A police commander working to control the rowdy crowd around Fenway Park after the Red Sox won the American League pennant last week was not responsible for the death of a college student.',\n",
       "  'Mars Rover Finds Mysterious Rocks and More Signs of Water Both rovers, the Spirit and the Opportunity, have more than doubled their intended lifetimes of three months.',\n",
       "  'Trial of Peru Rebel Leader Is Suspended (AP) AP - The trial of Shining Path rebel leader Abimael Guzman was suspended again Friday for after one judge stepped down and prosecutors insisted that the lead judge follow suit.',\n",
       "  'Monday Night Football: Jets soar to 6-1 in AFC East Curtis Martin and LaMont Jordan each rushed for 115 yards and a score to help the New York Jets rout the hapless Miami Dolphins 41-14 last night.',\n",
       "  'NBA Game Summary - LA Clippers at New Orleans Lafayette, LA (Sports Network) - Rookie JR Smith scored 22 points to lead four Hornets in double figures, as New Orleans topped the Los Angeles Clippers, 105-95, in preseason action.',\n",
       "  \"Wal-Mart to Match Kettle Donations (AP) AP - Folks dropping money in Salvation Army kettles at Wal-Mart stores can make their money go twice as far. The world's largest retailer announced Thursday it would match up to  #36;1 million in donations.\",\n",
       "  'Mozilla: The next Internet Explorer? At the Office of Information Technology computing cluster in Perkins Library, junior Alexandra Oliveira was among the many students browsing the Internet.',\n",
       "  'Jaguar workers vote against strike Jaguar workers delivered a snub to union leaders by rejecting plans to strike over Ford #39;s decision to stop car assembly at the Browns Lane plant in Coventry.',\n",
       "  \"Truce fails to soothe Shi'ite fears BAGHDAD -- A week after reaching a truce with Moqtada al-Sadr's rebel militia, a move officials hailed as a breakthrough that would let them bolster security forces and restart reconstruction projects, the interim Iraqi government faces a deepening crisis of confidence among the country's Shi'ite Muslim majority.\",\n",
       "  'Bios of Sprint #39;s Forsee, Nextel #39;s Donahue Here are brief sketches of the two top executives of the company being created by Sprint Corp. #39;s \\\\$35 billion purchase of Nextel Communications Inc.',\n",
       "  'Version 2.0 of Linux Standard Base specs now available The latest Linux Standard Base specifications are now out, allowing open-source vendors and developers to maintain easy portability and compatibility among applications for Linux.',\n",
       "  'NHL lockout meeting shows unity among reps There would have been plenty to talk about when player representatives met with union leadership yesterday as the National Hockey League lockout reaches its 48th day.',\n",
       "  'India-Pakistan working for  #39;acceptable #39; solution of Kashmir NEW DELHI (India): Prime Minister Dr Manmohan Singh Sunday said India and Pakistan were working towards achieving  quot;credible and mutually acceptable quot; solution of all outstanding problems including Kashmir issue.',\n",
       "  '.Mac bumps up storage capacity, improves mail Apple Computer Inc. has improved the services offered to subscribers of .Mac, including an increase in the amount of online data storage to 250MB.'],\n",
       " 'label': [2,\n",
       "  0,\n",
       "  0,\n",
       "  2,\n",
       "  3,\n",
       "  2,\n",
       "  3,\n",
       "  2,\n",
       "  0,\n",
       "  0,\n",
       "  2,\n",
       "  0,\n",
       "  2,\n",
       "  0,\n",
       "  3,\n",
       "  2,\n",
       "  2,\n",
       "  2,\n",
       "  0,\n",
       "  2,\n",
       "  3,\n",
       "  0,\n",
       "  2,\n",
       "  3,\n",
       "  2,\n",
       "  3,\n",
       "  0,\n",
       "  2,\n",
       "  1,\n",
       "  2,\n",
       "  2,\n",
       "  3,\n",
       "  1,\n",
       "  3,\n",
       "  0,\n",
       "  0,\n",
       "  2,\n",
       "  2,\n",
       "  1,\n",
       "  2,\n",
       "  2,\n",
       "  1,\n",
       "  1,\n",
       "  0,\n",
       "  1,\n",
       "  3,\n",
       "  2,\n",
       "  1,\n",
       "  3,\n",
       "  3,\n",
       "  3,\n",
       "  3,\n",
       "  0,\n",
       "  2,\n",
       "  2,\n",
       "  1,\n",
       "  2,\n",
       "  0,\n",
       "  3,\n",
       "  1,\n",
       "  3,\n",
       "  0,\n",
       "  2,\n",
       "  3,\n",
       "  3,\n",
       "  2,\n",
       "  2,\n",
       "  2,\n",
       "  0,\n",
       "  0,\n",
       "  2,\n",
       "  1,\n",
       "  3,\n",
       "  2,\n",
       "  0,\n",
       "  3,\n",
       "  2,\n",
       "  0,\n",
       "  1,\n",
       "  1,\n",
       "  1,\n",
       "  3,\n",
       "  0,\n",
       "  2,\n",
       "  0,\n",
       "  3,\n",
       "  1,\n",
       "  3,\n",
       "  0,\n",
       "  1,\n",
       "  1,\n",
       "  2,\n",
       "  3,\n",
       "  2,\n",
       "  0,\n",
       "  2,\n",
       "  3,\n",
       "  1,\n",
       "  0,\n",
       "  3]}"
      ]
     },
     "execution_count": 15,
     "metadata": {},
     "output_type": "execute_result"
    }
   ],
   "source": [
    "dts"
   ]
  },
  {
   "cell_type": "code",
   "execution_count": null,
   "metadata": {},
   "outputs": [],
   "source": []
  }
 ],
 "metadata": {
  "kernelspec": {
   "display_name": "Python 3.8.10 ('.embgam')",
   "language": "python",
   "name": "python3"
  },
  "language_info": {
   "codemirror_mode": {
    "name": "ipython",
    "version": 3
   },
   "file_extension": ".py",
   "mimetype": "text/x-python",
   "name": "python",
   "nbconvert_exporter": "python",
   "pygments_lexer": "ipython3",
   "version": "3.11.4"
  },
  "vscode": {
   "interpreter": {
    "hash": "1706cf08143e086ec5bb3838ad8d537cfb8b4c6b8cff053a62227f927355451f"
   }
  }
 },
 "nbformat": 4,
 "nbformat_minor": 4
}
