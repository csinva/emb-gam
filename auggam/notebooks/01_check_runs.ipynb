{
 "cells": [
  {
   "cell_type": "code",
   "execution_count": 6,
   "metadata": {},
   "outputs": [],
   "source": [
    "import os\n",
    "import os.path\n",
    "from os.path import join as oj\n",
    "import config"
   ]
  },
  {
   "cell_type": "code",
   "execution_count": null,
   "metadata": {},
   "outputs": [],
   "source": [
    "dsets = os.listdir(config.data_dir)\n",
    "\n",
    "for dset in dsets:\n",
    "    data_dir = oj(config.data_dir, dset)\n",
    "    dir_names = sorted(os.listdir(data_dir))\n",
    "    results_dir = oj(config.results_dir, dset)\n",
    "    \n",
    "    if os.path.exists(results_dir):\n",
    "        results_names = os.listdir(results_dir)\n",
    "    else:\n",
    "        results_names = []\n",
    "    for dir_name in dir_names:\n",
    "        if not dir_name in results_names:\n",
    "            print(dset, dir_name)"
   ]
  }
 ],
 "metadata": {
  "kernelspec": {
   "display_name": "Python 3.8.10 ('.embgam')",
   "language": "python",
   "name": "python3"
  },
  "language_info": {
   "codemirror_mode": {
    "name": "ipython",
    "version": 3
   },
   "file_extension": ".py",
   "mimetype": "text/x-python",
   "name": "python",
   "nbconvert_exporter": "python",
   "pygments_lexer": "ipython3",
   "version": "3.8.10"
  },
  "vscode": {
   "interpreter": {
    "hash": "1706cf08143e086ec5bb3838ad8d537cfb8b4c6b8cff053a62227f927355451f"
   }
  }
 },
 "nbformat": 4,
 "nbformat_minor": 4
}
