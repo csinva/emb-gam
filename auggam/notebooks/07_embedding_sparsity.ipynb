{
 "cells": [
  {
   "cell_type": "code",
   "execution_count": 5,
   "metadata": {},
   "outputs": [
    {
     "name": "stdout",
     "output_type": "stream",
     "text": [
      "The autoreload extension is already loaded. To reload it, use:\n",
      "  %reload_ext autoreload\n"
     ]
    }
   ],
   "source": [
    "%load_ext autoreload\n",
    "%autoreload 2\n",
    "import pickle as pkl\n",
    "import warnings\n",
    "\n",
    "import auggam\n",
    "import matplotlib.pyplot as plt\n",
    "import numpy as np\n",
    "import torch\n",
    "import transformers\n",
    "from tqdm import tqdm\n",
    "from auggam import data\n",
    "from sklearn.base import ClassifierMixin, RegressorMixin\n",
    "\n",
    "import pandas as pd\n",
    "import matplotlib.pyplot as plt\n",
    "import seaborn as sns\n",
    "import sys\n",
    "import dvu\n",
    "dvu.set_style()\n",
    "sys.path.append('../results')\n",
    "pd.set_option('display.max_rows', None)"
   ]
  },
  {
   "cell_type": "code",
   "execution_count": 6,
   "metadata": {},
   "outputs": [],
   "source": [
    "def sparse_predict(model, X, warn, frac_ngrams=1):\n",
    "    \"\"\"Predict only the cached coefs in self.coefs_dict_\"\"\"\n",
    "    assert hasattr(model, \"coefs_dict_\"), \"coefs are not cached!\"\n",
    "    preds = []\n",
    "    n_unseen_ngrams = 0\n",
    "    for x in X:\n",
    "        pred_list = []\n",
    "        seqs = auggam.embed.generate_ngrams_list(\n",
    "            x,\n",
    "            ngrams=model.ngrams,\n",
    "            tokenizer_ngrams=model.tokenizer_ngrams,\n",
    "            all_ngrams=model.all_ngrams,\n",
    "        )\n",
    "\n",
    "        for seq in seqs:\n",
    "            if seq in model.coefs_dict_:\n",
    "                pred_list.append(model.coefs_dict_[seq])\n",
    "            else:\n",
    "                n_unseen_ngrams += 1\n",
    "\n",
    "        def key(x):\n",
    "            if type(x) is np.ndarray:\n",
    "                return sum(abs(x))\n",
    "            return abs(x)\n",
    "\n",
    "        pred_arr = np.array(sorted(pred_list, key=key, reverse=True))\n",
    "\n",
    "        if len(pred_arr) == 0:\n",
    "            preds.append(0)\n",
    "        elif frac_ngrams < 1:\n",
    "            # only look at a fraction of seqs\n",
    "            if pred_arr.ndim == 1:\n",
    "                cumsum = np.cumsum(np.abs(pred_arr))\n",
    "            elif pred_arr.ndim == 2:\n",
    "                cumsum = np.cumsum(np.sum(np.abs(pred_arr), axis=1))\n",
    "\n",
    "            # note cumsum[-1] is the total sum of absolute value of all the elements\n",
    "            idx = np.where((cumsum / cumsum[-1]) > frac_ngrams)[0][0]\n",
    "            preds.append(sum(pred_arr[: idx + 1]))\n",
    "        else:\n",
    "            preds.append(sum(pred_arr))\n",
    "\n",
    "    if n_unseen_ngrams > 0 and warn:\n",
    "        warnings.warn(\n",
    "            f\"Saw an unseen ungram {n_unseen_ngrams} times. \\\n",
    "For better performance, call cache_linear_coefs on the test dataset \\\n",
    "before calling predict.\"\n",
    "        )\n",
    "\n",
    "    preds = np.array(preds)\n",
    "    if isinstance(model, RegressorMixin):\n",
    "        return preds\n",
    "    elif isinstance(model, ClassifierMixin):\n",
    "        if preds.ndim > 1:\n",
    "            return np.argmax(preds, axis=1)\n",
    "        return ((preds + model.linear.intercept_) > 0).astype(int)"
   ]
  },
  {
   "cell_type": "code",
   "execution_count": 7,
   "metadata": {},
   "outputs": [],
   "source": [
    "DEVICE = \"cuda\" if torch.cuda.is_available() else \"cpu\"\n",
    "dsets = {\n",
    "    \"financial_phrasebank\": \"ahmedrachid/FinancialBERT-Sentiment-Analysis\",  # 3 class classification\n",
    "    \"sst2\": \"textattack/bert-base-uncased-SST-2\",\n",
    "    \"emotion\": \"nateraw/bert-base-uncased-emotion\",  # 6 class classification\n",
    "    \"rotten_tomatoes\": \"textattack/bert-base-uncased-rotten_tomatoes\",\n",
    "}\n",
    "DSETS_RENAME_DICT = {\n",
    "    'emotion': 'Emotion',\n",
    "    'sst2': 'SST2',\n",
    "    'tweet_eval': 'Tweet (Hate)',\n",
    "    'rotten_tomatoes': 'Rotten tomatoes',\n",
    "    'financial_phrasebank': 'Financial phrasebank',\n",
    "}"
   ]
  },
  {
   "cell_type": "code",
   "execution_count": 8,
   "metadata": {},
   "outputs": [
    {
     "name": "stderr",
     "output_type": "stream",
     "text": [
      "Found cached dataset financial_phrasebank (/home/chansingh/.cache/huggingface/datasets/financial_phrasebank/sentences_75agree/1.0.0/550bde12e6c30e2674da973a55f57edde5181d53f5a5a34c1531c53f93b7e141)\n",
      "Some weights of the model checkpoint at ahmedrachid/FinancialBERT-Sentiment-Analysis were not used when initializing BertModel: ['classifier.bias', 'classifier.weight']\n",
      "- This IS expected if you are initializing BertModel from the checkpoint of a model trained on another task or with another architecture (e.g. initializing a BertForSequenceClassification model from a BertForPreTraining model).\n",
      "- This IS NOT expected if you are initializing BertModel from the checkpoint of a model that you expect to be exactly identical (initializing a BertForSequenceClassification model from a BertForSequenceClassification model).\n"
     ]
    },
    {
     "name": "stdout",
     "output_type": "stream",
     "text": [
      "\tNothing to update!\n"
     ]
    },
    {
     "name": "stderr",
     "output_type": "stream",
     "text": [
      "Some weights of the model checkpoint at ahmedrachid/FinancialBERT-Sentiment-Analysis were not used when initializing BertModel: ['classifier.bias', 'classifier.weight']\n",
      "- This IS expected if you are initializing BertModel from the checkpoint of a model trained on another task or with another architecture (e.g. initializing a BertForSequenceClassification model from a BertForPreTraining model).\n",
      "- This IS NOT expected if you are initializing BertModel from the checkpoint of a model that you expect to be exactly identical (initializing a BertForSequenceClassification model from a BertForSequenceClassification model).\n",
      "100%|██████████| 100/100 [00:50<00:00,  1.97it/s]\n",
      "Using custom data configuration default\n",
      "Found cached dataset sst2 (/home/chansingh/.cache/huggingface/datasets/sst2/default/2.0.0/9896208a8d85db057ac50c72282bcb8fe755accc671a57dd8059d4e130961ed5)\n"
     ]
    },
    {
     "data": {
      "application/vnd.jupyter.widget-view+json": {
       "model_id": "850adc5e8dbb45e1a9b018d8526bd1c1",
       "version_major": 2,
       "version_minor": 0
      },
      "text/plain": [
       "  0%|          | 0/3 [00:00<?, ?it/s]"
      ]
     },
     "metadata": {},
     "output_type": "display_data"
    },
    {
     "name": "stderr",
     "output_type": "stream",
     "text": [
      "Some weights of the model checkpoint at textattack/bert-base-uncased-SST-2 were not used when initializing BertModel: ['classifier.bias', 'classifier.weight']\n",
      "- This IS expected if you are initializing BertModel from the checkpoint of a model trained on another task or with another architecture (e.g. initializing a BertForSequenceClassification model from a BertForPreTraining model).\n",
      "- This IS NOT expected if you are initializing BertModel from the checkpoint of a model that you expect to be exactly identical (initializing a BertForSequenceClassification model from a BertForSequenceClassification model).\n"
     ]
    },
    {
     "name": "stdout",
     "output_type": "stream",
     "text": [
      "\tNothing to update!\n"
     ]
    },
    {
     "name": "stderr",
     "output_type": "stream",
     "text": [
      "Some weights of the model checkpoint at textattack/bert-base-uncased-SST-2 were not used when initializing BertModel: ['classifier.bias', 'classifier.weight']\n",
      "- This IS expected if you are initializing BertModel from the checkpoint of a model trained on another task or with another architecture (e.g. initializing a BertForSequenceClassification model from a BertForPreTraining model).\n",
      "- This IS NOT expected if you are initializing BertModel from the checkpoint of a model that you expect to be exactly identical (initializing a BertForSequenceClassification model from a BertForSequenceClassification model).\n",
      "100%|██████████| 100/100 [00:17<00:00,  5.79it/s]\n"
     ]
    },
    {
     "data": {
      "application/vnd.jupyter.widget-view+json": {
       "model_id": "09cc47471d594f949f404e798bf75ac4",
       "version_major": 2,
       "version_minor": 0
      },
      "text/plain": [
       "Downloading builder script:   0%|          | 0.00/3.97k [00:00<?, ?B/s]"
      ]
     },
     "metadata": {},
     "output_type": "display_data"
    },
    {
     "name": "stderr",
     "output_type": "stream",
     "text": [
      "No config specified, defaulting to: emotion/split\n"
     ]
    },
    {
     "name": "stdout",
     "output_type": "stream",
     "text": [
      "Downloading and preparing dataset emotion/split to /home/chansingh/.cache/huggingface/datasets/emotion/split/1.0.0/cca5efe2dfeb58c1d098e0f9eeb200e9927d889b5a03c67097275dfb5fe463bd...\n"
     ]
    },
    {
     "data": {
      "application/vnd.jupyter.widget-view+json": {
       "model_id": "ec0539c9e0c344eba48dd712bc2cd24f",
       "version_major": 2,
       "version_minor": 0
      },
      "text/plain": [
       "Downloading data files:   0%|          | 0/3 [00:00<?, ?it/s]"
      ]
     },
     "metadata": {},
     "output_type": "display_data"
    },
    {
     "data": {
      "application/vnd.jupyter.widget-view+json": {
       "model_id": "4d2c547781e7418bbd3da976b03d1c02",
       "version_major": 2,
       "version_minor": 0
      },
      "text/plain": [
       "Downloading data:   0%|          | 0.00/592k [00:00<?, ?B/s]"
      ]
     },
     "metadata": {},
     "output_type": "display_data"
    },
    {
     "data": {
      "application/vnd.jupyter.widget-view+json": {
       "model_id": "d765abb0b09b418bbaccfa5637848f90",
       "version_major": 2,
       "version_minor": 0
      },
      "text/plain": [
       "Downloading data:   0%|          | 0.00/74.0k [00:00<?, ?B/s]"
      ]
     },
     "metadata": {},
     "output_type": "display_data"
    },
    {
     "data": {
      "application/vnd.jupyter.widget-view+json": {
       "model_id": "2a4554ba285b45418d63426c09dbd3f4",
       "version_major": 2,
       "version_minor": 0
      },
      "text/plain": [
       "Downloading data:   0%|          | 0.00/74.9k [00:00<?, ?B/s]"
      ]
     },
     "metadata": {},
     "output_type": "display_data"
    },
    {
     "data": {
      "application/vnd.jupyter.widget-view+json": {
       "model_id": "05769c577b05433bb957674db2596074",
       "version_major": 2,
       "version_minor": 0
      },
      "text/plain": [
       "Extracting data files:   0%|          | 0/3 [00:00<?, ?it/s]"
      ]
     },
     "metadata": {},
     "output_type": "display_data"
    },
    {
     "data": {
      "application/vnd.jupyter.widget-view+json": {
       "model_id": "f214ecc72dfe499cb612cbb246d08c03",
       "version_major": 2,
       "version_minor": 0
      },
      "text/plain": [
       "Generating train split: 0 examples [00:00, ? examples/s]"
      ]
     },
     "metadata": {},
     "output_type": "display_data"
    },
    {
     "data": {
      "application/vnd.jupyter.widget-view+json": {
       "model_id": "7598f06cd8b34277b0028b36fb36d6d4",
       "version_major": 2,
       "version_minor": 0
      },
      "text/plain": [
       "Generating validation split: 0 examples [00:00, ? examples/s]"
      ]
     },
     "metadata": {},
     "output_type": "display_data"
    },
    {
     "data": {
      "application/vnd.jupyter.widget-view+json": {
       "model_id": "a5b233f730a3429dbbe15f856a543b01",
       "version_major": 2,
       "version_minor": 0
      },
      "text/plain": [
       "Generating test split: 0 examples [00:00, ? examples/s]"
      ]
     },
     "metadata": {},
     "output_type": "display_data"
    },
    {
     "name": "stdout",
     "output_type": "stream",
     "text": [
      "Dataset emotion downloaded and prepared to /home/chansingh/.cache/huggingface/datasets/emotion/split/1.0.0/cca5efe2dfeb58c1d098e0f9eeb200e9927d889b5a03c67097275dfb5fe463bd. Subsequent calls will reuse this data.\n"
     ]
    },
    {
     "data": {
      "application/vnd.jupyter.widget-view+json": {
       "model_id": "847578bb560d44e0a52f33aff755372e",
       "version_major": 2,
       "version_minor": 0
      },
      "text/plain": [
       "  0%|          | 0/3 [00:00<?, ?it/s]"
      ]
     },
     "metadata": {},
     "output_type": "display_data"
    },
    {
     "name": "stderr",
     "output_type": "stream",
     "text": [
      "Some weights of the model checkpoint at nateraw/bert-base-uncased-emotion were not used when initializing BertModel: ['classifier.bias', 'classifier.weight']\n",
      "- This IS expected if you are initializing BertModel from the checkpoint of a model trained on another task or with another architecture (e.g. initializing a BertForSequenceClassification model from a BertForPreTraining model).\n",
      "- This IS NOT expected if you are initializing BertModel from the checkpoint of a model that you expect to be exactly identical (initializing a BertForSequenceClassification model from a BertForSequenceClassification model).\n"
     ]
    },
    {
     "name": "stdout",
     "output_type": "stream",
     "text": [
      "\tNothing to update!\n"
     ]
    },
    {
     "name": "stderr",
     "output_type": "stream",
     "text": [
      "Some weights of the model checkpoint at nateraw/bert-base-uncased-emotion were not used when initializing BertModel: ['classifier.bias', 'classifier.weight']\n",
      "- This IS expected if you are initializing BertModel from the checkpoint of a model trained on another task or with another architecture (e.g. initializing a BertForSequenceClassification model from a BertForPreTraining model).\n",
      "- This IS NOT expected if you are initializing BertModel from the checkpoint of a model that you expect to be exactly identical (initializing a BertForSequenceClassification model from a BertForSequenceClassification model).\n",
      "100%|██████████| 100/100 [01:17<00:00,  1.29it/s]\n",
      "Using custom data configuration default\n",
      "Found cached dataset rotten_tomatoes (/home/chansingh/.cache/huggingface/datasets/rotten_tomatoes/default/1.0.0/40d411e45a6ce3484deed7cc15b82a53dad9a72aafd9f86f8f227134bec5ca46)\n"
     ]
    },
    {
     "data": {
      "application/vnd.jupyter.widget-view+json": {
       "model_id": "6dc88de9bfa342d9bcda3435d66c2701",
       "version_major": 2,
       "version_minor": 0
      },
      "text/plain": [
       "  0%|          | 0/3 [00:00<?, ?it/s]"
      ]
     },
     "metadata": {},
     "output_type": "display_data"
    },
    {
     "name": "stderr",
     "output_type": "stream",
     "text": [
      "Some weights of the model checkpoint at textattack/bert-base-uncased-rotten_tomatoes were not used when initializing BertModel: ['classifier.bias', 'classifier.weight']\n",
      "- This IS expected if you are initializing BertModel from the checkpoint of a model trained on another task or with another architecture (e.g. initializing a BertForSequenceClassification model from a BertForPreTraining model).\n",
      "- This IS NOT expected if you are initializing BertModel from the checkpoint of a model that you expect to be exactly identical (initializing a BertForSequenceClassification model from a BertForSequenceClassification model).\n"
     ]
    },
    {
     "name": "stdout",
     "output_type": "stream",
     "text": [
      "\tNothing to update!\n"
     ]
    },
    {
     "name": "stderr",
     "output_type": "stream",
     "text": [
      "Some weights of the model checkpoint at textattack/bert-base-uncased-rotten_tomatoes were not used when initializing BertModel: ['classifier.bias', 'classifier.weight']\n",
      "- This IS expected if you are initializing BertModel from the checkpoint of a model trained on another task or with another architecture (e.g. initializing a BertForSequenceClassification model from a BertForPreTraining model).\n",
      "- This IS NOT expected if you are initializing BertModel from the checkpoint of a model that you expect to be exactly identical (initializing a BertForSequenceClassification model from a BertForSequenceClassification model).\n",
      "100%|██████████| 100/100 [00:23<00:00,  4.26it/s]\n"
     ]
    }
   ],
   "source": [
    "acc_vals = {}\n",
    "frac_ngrams = np.linspace(1, 100, num=100) / 100\n",
    "\n",
    "for dataset in dsets.keys():\n",
    "    checkpoint = dsets[dataset]\n",
    "\n",
    "    # set up data\n",
    "    dset, dataset_key_text = data.process_data_and_args(dataset)\n",
    "    dset_train = dset[\"train\"]\n",
    "    dset_val = dset[\"validation\"]\n",
    "\n",
    "    # load model\n",
    "    with open(f\"../results/4gram_{dataset}_imodelsx.pkl\", \"rb\") as f:\n",
    "        m = pkl.load(f)\n",
    "\n",
    "    # predict\n",
    "    m.cache_linear_coefs(dset_val[dataset_key_text])\n",
    "\n",
    "    transformer_model = transformers.AutoModel.from_pretrained(m.checkpoint).to(\n",
    "        DEVICE\n",
    "    )\n",
    "    tokenizer_embeddings = transformers.AutoTokenizer.from_pretrained(m.checkpoint)\n",
    "\n",
    "    # generate plot\n",
    "    dataset_acc = []\n",
    "    for frac in tqdm(frac_ngrams):\n",
    "        preds = sparse_predict(\n",
    "            m, dset_val[dataset_key_text], True, frac_ngrams=frac\n",
    "        )\n",
    "        dataset_acc.append(np.mean(preds == dset_val[\"label\"]))\n",
    "\n",
    "    acc_vals[dataset] = dataset_acc"
   ]
  },
  {
   "cell_type": "code",
   "execution_count": 17,
   "metadata": {},
   "outputs": [
    {
     "data": {
      "image/png": "[encoded data removed]",
      "text/plain": [
       "<Figure size 600x350 with 1 Axes>"
      ]
     },
     "metadata": {},
     "output_type": "display_data"
    }
   ],
   "source": [
    "plt.figure(figsize=(6, 3.5))\n",
    "dsets\n",
    "dsets_plot = ['financial_phrasebank', 'rotten_tomatoes', 'sst2', 'emotion']\n",
    "for i, dset in enumerate(dsets_plot):\n",
    "    plt.plot(acc_vals[dset], '.-', label=DSETS_RENAME_DICT[dset], lw=1, ms=4)\n",
    "plt.grid()\n",
    "plt.xticks(list(range(10,110,10)), [f'{n + 1}0%' for n in range(10)])\n",
    "plt.ylabel('Test accuracy')\n",
    "plt.xlabel('Fraction of ngrams used for testing')\n",
    "dvu.line_legend(fontsize='medium')\n",
    "plt.tight_layout()\n",
    "plt.savefig('vary_sparsity.pdf', bbox_inches='tight')\n",
    "plt.show()"
   ]
  }
 ],
 "metadata": {
  "kernelspec": {
   "display_name": ".embgam",
   "language": "python",
   "name": "python3"
  },
  "language_info": {
   "codemirror_mode": {
    "name": "ipython",
    "version": 3
   },
   "file_extension": ".py",
   "mimetype": "text/x-python",
   "name": "python",
   "nbconvert_exporter": "python",
   "pygments_lexer": "ipython3",
   "version": "3.8.10"
  },
  "vscode": {
   "interpreter": {
    "hash": "559535f78d940c882783b39501b2581b5193373045707e5f8a51d046029cfd38"
   }
  }
 },
 "nbformat": 4,
 "nbformat_minor": 4
}
