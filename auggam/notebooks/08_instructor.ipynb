{
 "cells": [
  {
   "cell_type": "code",
   "execution_count": 1,
   "metadata": {},
   "outputs": [],
   "source": [
    "%load_ext autoreload\n",
    "%autoreload 2\n",
    "import pickle as pkl\n",
    "import warnings\n",
    "\n",
    "import matplotlib.pyplot as plt\n",
    "import numpy as np\n",
    "from tqdm import tqdm\n",
    "from embgam import data\n",
    "from sklearn.base import ClassifierMixin, RegressorMixin\n",
    "\n",
    "import pandas as pd\n",
    "import matplotlib.pyplot as plt\n",
    "import seaborn as sns\n",
    "import os\n",
    "from os.path import join\n",
    "import sys\n",
    "import joblib\n",
    "import dvu\n",
    "dvu.set_style()\n",
    "sys.path.append('../results')\n",
    "pd.set_option('display.max_rows', None)"
   ]
  },
  {
   "cell_type": "code",
   "execution_count": 2,
   "metadata": {},
   "outputs": [],
   "source": [
    "fnames = [fname for fname in os.listdir('../results') if fname.startswith('instructor')]\n",
    "# accs = pd.read_pickle('../results/instructor_accs.pkl')"
   ]
  },
  {
   "cell_type": "code",
   "execution_count": 3,
   "metadata": {},
   "outputs": [],
   "source": [
    "fnames_acc = [fname for fname in fnames if 'acc_' in fname]"
   ]
  },
  {
   "cell_type": "code",
   "execution_count": 4,
   "metadata": {},
   "outputs": [
    {
     "name": "stdout",
     "output_type": "stream",
     "text": [
      "instructor_acc_rotten_tomatoes_imodelsx.pkl\n",
      "{'acc_val': 0.800187617260788}\n",
      "instructor_acc_emotion_imodelsx.pkl\n",
      "{'acc_val': 0.7095}\n",
      "instructor_acc_financial_phrasebank_imodelsx.pkl\n",
      "{'acc_val': 0.7605263157894737}\n",
      "instructor_acc_sst2_imodelsx.pkl\n",
      "{'acc_val': 0.8474770642201835}\n"
     ]
    }
   ],
   "source": [
    "for fname in fnames_acc:\n",
    "    print(fname)\n",
    "    acc = joblib.load(join('../results', fname))\n",
    "    print(acc)\n",
    "# joblib.load(join('../results', fnames_acc[0]))"
   ]
  },
  {
   "cell_type": "code",
   "execution_count": null,
   "metadata": {},
   "outputs": [],
   "source": []
  }
 ],
 "metadata": {
  "kernelspec": {
   "display_name": ".embgam",
   "language": "python",
   "name": "python3"
  },
  "language_info": {
   "codemirror_mode": {
    "name": "ipython",
    "version": 3
   },
   "file_extension": ".py",
   "mimetype": "text/x-python",
   "name": "python",
   "nbconvert_exporter": "python",
   "pygments_lexer": "ipython3",
   "version": "3.9.16"
  },
  "vscode": {
   "interpreter": {
    "hash": "559535f78d940c882783b39501b2581b5193373045707e5f8a51d046029cfd38"
   }
  }
 },
 "nbformat": 4,
 "nbformat_minor": 4
}
