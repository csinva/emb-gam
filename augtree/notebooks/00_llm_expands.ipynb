{
 "cells": [
  {
   "cell_type": "code",
   "execution_count": 2,
   "metadata": {},
   "outputs": [],
   "source": [
    "import os\n",
    "import os.path\n",
    "from os.path import join\n",
    "from tqdm import tqdm\n",
    "import pandas as pd\n",
    "import pickle as pkl\n",
    "import sys\n",
    "import json"
   ]
  },
  {
   "attachments": {},
   "cell_type": "markdown",
   "metadata": {},
   "source": [
    "Load the results into a pandas dataframe"
   ]
  },
  {
   "cell_type": "code",
   "execution_count": 5,
   "metadata": {},
   "outputs": [
    {
     "name": "stderr",
     "output_type": "stream",
     "text": [
      "100%|██████████| 74/74 [00:00<00:00, 34299.76it/s]\n",
      "100%|██████████| 244/244 [00:00<00:00, 29598.86it/s]\n",
      "100%|██████████| 611/611 [00:00<00:00, 43910.01it/s]\n",
      "100%|██████████| 18048/18048 [00:00<00:00, 40704.63it/s]\n",
      "100%|██████████| 74/74 [00:00<00:00, 47141.33it/s]\n",
      "100%|██████████| 244/244 [00:00<00:00, 38459.61it/s]\n",
      "100%|██████████| 611/611 [00:00<00:00, 38084.70it/s]\n",
      "100%|██████████| 18048/18048 [00:00<00:00, 65406.27it/s]\n"
     ]
    }
   ],
   "source": [
    "prefixes = ['', 'raw_']\n",
    "for prefix in prefixes:\n",
    "    results_dir = '../results/gpt3_cache'\n",
    "    dir_names_dataset = [\n",
    "        dir_name\n",
    "        for dir_name in os.listdir(results_dir)\n",
    "        if os.path.isdir(join(results_dir, dir_name))\n",
    "    ]\n",
    "    for dir_name in dir_names_dataset:\n",
    "        fnames = sorted([\n",
    "            fname\n",
    "            for fname in os.listdir(join(results_dir, dir_name))\n",
    "            if fname.endswith('.pkl')\n",
    "        ])\n",
    "        if prefix == 'raw_':\n",
    "            fnames = [fname for fname in fnames if fname.startswith('raw_')]\n",
    "        else:\n",
    "            fnames = [fname for fname in fnames if not fname.startswith('raw_')]\n",
    "        d = {}\n",
    "        for fname in tqdm(fnames):\n",
    "            ser = pkl.load(open(join(results_dir, dir_name, fname), \"rb\"))\n",
    "            offset = 1\n",
    "            if prefix == 'raw_':\n",
    "                offset = 4\n",
    "            d[fname[offset:fname.index('___')]] = ser\n",
    "\n",
    "        # dump dictionary d to json file\n",
    "        # with open(join(results_dir, prefix + dir_name + '.json'), 'w') as f:\n",
    "            # json.dump(d, f, separators=(',', ':'))\n",
    "        with open(join(results_dir, prefix + dir_name + '.pkl'), 'wb') as f:\n",
    "            pkl.dump(d, f)"
   ]
  },
  {
   "cell_type": "code",
   "execution_count": 4,
   "metadata": {},
   "outputs": [
    {
     "name": "stdout",
     "output_type": "stream",
     "text": [
      "144M\t../results/gpt3_cache/base\n",
      "32M\t../results/gpt3_cache/base.pkl\n",
      "620K\t../results/gpt3_cache/inthecontextoffinancialsentiment\n",
      "152K\t../results/gpt3_cache/inthecontextoffinancialsentiment.pkl\n",
      "5.1M\t../results/gpt3_cache/inthecontextofmoviereviews\n",
      "1.4M\t../results/gpt3_cache/inthecontextofmoviereviews.pkl\n",
      "2.0M\t../results/gpt3_cache/inthecontextoftweetsentiment\n",
      "432K\t../results/gpt3_cache/inthecontextoftweetsentiment.pkl\n",
      "39M\t../results/gpt3_cache/raw_base.pkl\n",
      "180K\t../results/gpt3_cache/raw_inthecontextoffinancialsentiment.pkl\n",
      "1.6M\t../results/gpt3_cache/raw_inthecontextofmoviereviews.pkl\n",
      "524K\t../results/gpt3_cache/raw_inthecontextoftweetsentiment.pkl\n"
     ]
    }
   ],
   "source": [
    "!du -sh {results_dir}/*"
   ]
  },
  {
   "cell_type": "code",
   "execution_count": null,
   "metadata": {},
   "outputs": [],
   "source": []
  }
 ],
 "metadata": {
  "kernelspec": {
   "display_name": ".embgam",
   "language": "python",
   "name": "python3"
  },
  "language_info": {
   "codemirror_mode": {
    "name": "ipython",
    "version": 3
   },
   "file_extension": ".py",
   "mimetype": "text/x-python",
   "name": "python",
   "nbconvert_exporter": "python",
   "pygments_lexer": "ipython3",
   "version": "3.9.16"
  },
  "orig_nbformat": 4,
  "vscode": {
   "interpreter": {
    "hash": "559535f78d940c882783b39501b2581b5193373045707e5f8a51d046029cfd38"
   }
  }
 },
 "nbformat": 4,
 "nbformat_minor": 2
}
