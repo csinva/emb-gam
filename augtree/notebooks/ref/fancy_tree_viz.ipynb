{
 "cells": [
  {
   "cell_type": "code",
   "execution_count": null,
   "metadata": {},
   "outputs": [],
   "source": [
    "%load_ext autoreload\n",
    "%autoreload 2\n",
    "# %config InlineBackend.figure_format = 'retina' # Make visualizations look good\n",
    "%config InlineBackend.figure_format = 'svg' \n",
    "%matplotlib inline\n",
    "import os\n",
    "import matplotlib.pyplot as plt\n",
    "import seaborn as sns\n",
    "from os.path import join\n",
    "from tqdm import tqdm\n",
    "import pandas as pd\n",
    "import pickle as pkl\n",
    "from sklearn.tree import DecisionTreeClassifier\n",
    "import dtreeviz\n",
    "from sklearn.tree import plot_tree\n",
    "import sys\n",
    "import numpy as np\n",
    "import llm_tree.data\n",
    "import imodelsx.data"
   ]
  },
  {
   "cell_type": "code",
   "execution_count": null,
   "metadata": {},
   "outputs": [],
   "source": [
    "# print(np.unique(y_train))\n",
    "feature_names = ['X' + str(i) for i in range(1, 101)]\n",
    "X_train = (np.random.randn(100, 10) > 0).astype(int)\n",
    "y_train = np.ones(100).astype(int)\n",
    "y_train[:50] = 0\n",
    "model = DecisionTreeClassifier().fit(X_train, y_train)"
   ]
  },
  {
   "cell_type": "code",
   "execution_count": null,
   "metadata": {},
   "outputs": [],
   "source": [
    "def save_tree(model, X_train, y_train, feature_names, target_name='y',\n",
    "            class_names=[\"neg\", \"pos\"], fname='tree.svg'):\n",
    "    viz_model = dtreeviz.model(\n",
    "        model,\n",
    "        X_train=X_train,\n",
    "        y_train=np.array(y_train),\n",
    "        feature_names=np.array(feature_names),\n",
    "        target_name=target_name,\n",
    "        class_names=np.array(class_names)\n",
    "    )\n",
    "    v = viz_model.view()\n",
    "    plt.close()\n",
    "    v.save(fname)\n",
    "save_tree(model, X_train, y_train, feature_names, fname='tree.svg')"
   ]
  },
  {
   "cell_type": "code",
   "execution_count": null,
   "metadata": {},
   "outputs": [],
   "source": []
  }
 ],
 "metadata": {
  "kernelspec": {
   "display_name": ".llm",
   "language": "python",
   "name": "python3"
  },
  "language_info": {
   "codemirror_mode": {
    "name": "ipython",
    "version": 3
   },
   "file_extension": ".py",
   "mimetype": "text/x-python",
   "name": "python",
   "nbconvert_exporter": "python",
   "pygments_lexer": "ipython3",
   "version": "3.8.10"
  },
  "orig_nbformat": 4,
  "vscode": {
   "interpreter": {
    "hash": "a9ff692d44ea03fd8a03facee7621117bbbb82def09bacaacf0a2cbc238b7b91"
   }
  }
 },
 "nbformat": 4,
 "nbformat_minor": 2
}
