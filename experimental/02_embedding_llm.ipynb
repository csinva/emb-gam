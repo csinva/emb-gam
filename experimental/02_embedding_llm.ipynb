{
 "cells": [
  {
   "cell_type": "code",
   "execution_count": 3,
   "metadata": {},
   "outputs": [],
   "source": [
    "%load_ext autoreload\n",
    "%autoreload 2\n",
    "import numpy as np\n",
    "from copy import deepcopy\n",
    "import sys\n",
    "import datasets\n",
    "import matplotlib.pyplot as plt\n",
    "import numpy as np\n",
    "sys.path.append('../experiments/')\n",
    "import os\n",
    "import scipy\n",
    "import pandas as pd\n",
    "import numpy as np\n",
    "import transformers\n",
    "import sys\n",
    "from os.path import join\n",
    "import datasets\n",
    "from dict_hash import sha256\n",
    "import numpy as np\n",
    "from torch.autograd import grad\n",
    "import torch\n",
    "from tqdm import tqdm\n",
    "from torch.autograd.functional import jacobian\n",
    "from torch.func import jacfwd\n",
    "from transformers import AutoTokenizer, AutoModelForCausalLM"
   ]
  },
  {
   "cell_type": "code",
   "execution_count": 35,
   "metadata": {},
   "outputs": [],
   "source": [
    "class HDLM:\n",
    "    def __init__(\n",
    "            self, checkpoint,\n",
    "            emb_size=10000,\n",
    "            learning_rate=0.1,\n",
    "            device='cuda',``\n",
    "            seed=13,\n",
    "    ):\n",
    "\n",
    "        torch.manual_seed(seed)\n",
    "        np.random.seed(seed)\n",
    "        self.tokenizer = AutoTokenizer.from_pretrained(checkpoint)\n",
    "        vocab_size = len(self.tokenizer)\n",
    "        self.learning_rate = learning_rate\n",
    "        self.vocab = torch.rand((vocab_size, emb_size))  # uniform\n",
    "        self.device = device\n",
    "        self.seed = seed\n",
    "\n",
    "    def next_emb_from_token_ids(self, input_ids):\n",
    "        embs = self.get_embs(input_ids)\n",
    "        return self.next_emb_from_embs(embs)\n",
    "\n",
    "    def next_emb_from_embs(self, embs):\n",
    "        '''Returns array of shape (emb_size)\n",
    "        '''\n",
    "        return torch.mean(embs, dim=0).squeeze()\n",
    "\n",
    "    def get_embs(self, input_ids):\n",
    "        '''Returns array of shape (len(input_ids), emb_size)\n",
    "        '''\n",
    "        if isinstance(input_ids, int) or isinstance(input_ids, float):\n",
    "            input_ids = [input_ids]\n",
    "        return torch.vstack([self.vocab[i] for i in input_ids])\n",
    "\n",
    "    def emb_to_token_id(self, emb):\n",
    "        '''Returns token id\n",
    "        '''\n",
    "        return torch.argmin(torch.norm(self.vocab - emb, dim=1))\n",
    "\n",
    "    def update_vocab_emb(self, predicted_emb, next_token_correct_id):\n",
    "        print(next_token_correct_id, predicted_emb.shape)\n",
    "        emb = self.vocab[next_token_correct_id]\n",
    "        self.vocab[next_token_correct_id] = (\n",
    "            1 - self.learning_rate) * emb + self.learning_rate * predicted_emb"
   ]
  },
  {
   "cell_type": "code",
   "execution_count": 43,
   "metadata": {},
   "outputs": [],
   "source": [
    "checkpoint = 'gpt2'\n",
    "# checkpoint = 'bert-base-uncased'\n",
    "tok = AutoTokenizer.from_pretrained(checkpoint)\n",
    "start = 'Roses are red, violets are'\n",
    "end = ' blue'\n",
    "lm = HDLM(checkpoint, device='cpu', emb_size=10000, learning_rate=0.9)"
   ]
  },
  {
   "cell_type": "code",
   "execution_count": 44,
   "metadata": {},
   "outputs": [
    {
     "name": "stdout",
     "output_type": "stream",
     "text": [
      "tokens as strings ['R', 'oses', 'Ġare', 'Ġred', ',', 'Ġv', 'io', 'lets', 'Ġare']\n",
      "tokens as ids tensor([[  49, 4629,  389, 2266,   11,  410,  952, 5289,  389]])\n"
     ]
    }
   ],
   "source": [
    "print('tokens as strings', lm.tokenizer.tokenize(start))\n",
    "input_ids = lm.tokenizer.encode(start, return_tensors='pt').to(lm.device)\n",
    "print('tokens as ids', input_ids)\n",
    "\n",
    "lm.get_embs(input_ids).shape\n",
    "\n",
    "next_emb = lm.next_emb_from_token_ids(input_ids)\n",
    "print('next_emb', next_emb.shape)\n",
    "\n",
    "next_token_id = lm.emb_to_token_id(next_emb)\n",
    "print('next_token', next_token_id, lm.tokenizer.decode(next_token_id))\n",
    "\n",
    "target = lm.tokenizer(end)['input_ids']\n",
    "lm.update_vocab_emb(next_emb, target[0])\n",
    "\n",
    "next_token_id = lm.emb_to_token_id(next_emb)\n",
    "print('next_token', next_token_id, lm.tokenizer.decode(next_token_id))"
   ]
  }
 ],
 "metadata": {
  "kernelspec": {
   "display_name": ".llm",
   "language": "python",
   "name": "python3"
  },
  "language_info": {
   "codemirror_mode": {
    "name": "ipython",
    "version": 3
   },
   "file_extension": ".py",
   "mimetype": "text/x-python",
   "name": "python",
   "nbconvert_exporter": "python",
   "pygments_lexer": "ipython3",
   "version": "3.11.7"
  },
  "orig_nbformat": 4,
  "vscode": {
   "interpreter": {
    "hash": "a9ff692d44ea03fd8a03facee7621117bbbb82def09bacaacf0a2cbc238b7b91"
   }
  }
 },
 "nbformat": 4,
 "nbformat_minor": 2
}
