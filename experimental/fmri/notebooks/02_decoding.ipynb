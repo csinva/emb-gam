{
 "cells": [
  {
   "cell_type": "markdown",
   "metadata": {},
   "source": [
    "This notebook analyzes data from https://github.com/HuthLab/deep-fMRI-dataset. To set up, see instructions in the `deep-fMRI-dataset` folder."
   ]
  },
  {
   "cell_type": "code",
   "execution_count": 1,
   "metadata": {},
   "outputs": [],
   "source": [
    "%load_ext autoreload\n",
    "%autoreload 2\n",
    "import datasets\n",
    "import numpy as np\n",
    "import sys\n",
    "sys.path.append('..')\n",
    "from os.path import join\n",
    "from ridge_utils.SemanticModel import SemanticModel\n",
    "from matplotlib import pyplot as plt\n",
    "from typing import List\n",
    "from sklearn.linear_model import RidgeCV, LogisticRegressionCV\n",
    "from sklearn.feature_extraction.text import CountVectorizer\n",
    "from feature_spaces import em_data_dir, data_dir, results_dir\n",
    "from collections import defaultdict\n",
    "import pandas as pd\n",
    "import os\n",
    "import seaborn as sns\n",
    "# from fit_linear_models import get_dsets\n",
    "from ridge_utils.SemanticModel import SemanticModel\n",
    "import encoding_utils, feature_spaces\n",
    "from transformers.pipelines.pt_utils import KeyDataset\n",
    "from feature_spaces import *\n",
    "from transformers import pipeline\n",
    "import datasets"
   ]
  },
  {
   "cell_type": "code",
   "execution_count": 4,
   "metadata": {},
   "outputs": [
    {
     "data": {
      "text/html": [
       "<div>\n",
       "<style scoped>\n",
       "    .dataframe tbody tr th:only-of-type {\n",
       "        vertical-align: middle;\n",
       "    }\n",
       "\n",
       "    .dataframe tbody tr th {\n",
       "        vertical-align: top;\n",
       "    }\n",
       "\n",
       "    .dataframe thead th {\n",
       "        text-align: right;\n",
       "    }\n",
       "</style>\n",
       "<table border=\"1\" class=\"dataframe\">\n",
       "  <thead>\n",
       "    <tr style=\"text-align: right;\">\n",
       "      <th></th>\n",
       "      <th>feats</th>\n",
       "      <th>dset</th>\n",
       "      <th>acc</th>\n",
       "      <th>feats_dim</th>\n",
       "    </tr>\n",
       "  </thead>\n",
       "  <tbody>\n",
       "    <tr>\n",
       "      <th>0</th>\n",
       "      <td>bert-base-uncased</td>\n",
       "      <td>tweet_eval</td>\n",
       "      <td>0.74</td>\n",
       "      <td>768</td>\n",
       "    </tr>\n",
       "    <tr>\n",
       "      <th>0</th>\n",
       "      <td>bert-base-uncased</td>\n",
       "      <td>sst2</td>\n",
       "      <td>0.85</td>\n",
       "      <td>768</td>\n",
       "    </tr>\n",
       "    <tr>\n",
       "      <th>0</th>\n",
       "      <td>bert-10__ndel=4fmri</td>\n",
       "      <td>sst2</td>\n",
       "      <td>0.59</td>\n",
       "      <td>1912</td>\n",
       "    </tr>\n",
       "    <tr>\n",
       "      <th>0</th>\n",
       "      <td>bert-base-uncased</td>\n",
       "      <td>rotten_tomatoes</td>\n",
       "      <td>0.81</td>\n",
       "      <td>768</td>\n",
       "    </tr>\n",
       "    <tr>\n",
       "      <th>0</th>\n",
       "      <td>bert-10__ndel=4fmri</td>\n",
       "      <td>rotten_tomatoes</td>\n",
       "      <td>0.99</td>\n",
       "      <td>1912</td>\n",
       "    </tr>\n",
       "    <tr>\n",
       "      <th>0</th>\n",
       "      <td>bert-base-uncased</td>\n",
       "      <td>emotion</td>\n",
       "      <td>0.65</td>\n",
       "      <td>768</td>\n",
       "    </tr>\n",
       "    <tr>\n",
       "      <th>0</th>\n",
       "      <td>bert-10__ndel=4fmri</td>\n",
       "      <td>emotion</td>\n",
       "      <td>0.38</td>\n",
       "      <td>1912</td>\n",
       "    </tr>\n",
       "  </tbody>\n",
       "</table>\n",
       "</div>"
      ],
      "text/plain": [
       "                 feats             dset   acc  feats_dim\n",
       "0    bert-base-uncased       tweet_eval  0.74        768\n",
       "0    bert-base-uncased             sst2  0.85        768\n",
       "0  bert-10__ndel=4fmri             sst2  0.59       1912\n",
       "0    bert-base-uncased  rotten_tomatoes  0.81        768\n",
       "0  bert-10__ndel=4fmri  rotten_tomatoes  0.99       1912\n",
       "0    bert-base-uncased          emotion  0.65        768\n",
       "0  bert-10__ndel=4fmri          emotion  0.38       1912"
      ]
     },
     "execution_count": 4,
     "metadata": {},
     "output_type": "execute_result"
    }
   ],
   "source": [
    "save_dir = '/home/chansingh/mntv1/deep-fMRI/results/linear_models/oct16'\n",
    "# save_dir = '/home/chansingh/mntv1/deep-fMRI/results/linear_models/subsamp_oct16'\n",
    "dfs = []\n",
    "fnames = os.listdir(save_dir)[::-1]\n",
    "for fname in fnames:\n",
    "    df = pd.read_pickle(join(save_dir, fname))\n",
    "    # print(fname)\n",
    "    # display(df)\n",
    "    dfs.append(df.reset_index())\n",
    "d = pd.concat(dfs).drop(columns='coef_').round(2)\n",
    "# d.set_index(['feats', 'dset'], inplace=True)\n",
    "d"
   ]
  },
  {
   "cell_type": "code",
   "execution_count": 5,
   "metadata": {},
   "outputs": [
    {
     "data": {
      "text/plain": [
       "<matplotlib.legend.Legend at 0x7f8bf5e0dbb0>"
      ]
     },
     "execution_count": 5,
     "metadata": {},
     "output_type": "execute_result"
    },
    {
     "data": {
      "image/png": "[encoded data removed]",
      "text/plain": [
       "<Figure size 640x480 with 1 Axes>"
      ]
     },
     "metadata": {},
     "output_type": "display_data"
    }
   ],
   "source": [
    "sns.barplot(data=d, x='dset', y='acc', hue='feats')\n",
    "plt.legend(bbox_to_anchor=(1.02, 0.55), loc='upper left', borderaxespad=0)"
   ]
  },
  {
   "cell_type": "code",
   "execution_count": null,
   "metadata": {},
   "outputs": [],
   "source": []
  }
 ],
 "metadata": {
  "kernelspec": {
   "display_name": "Python 3.8.10 ('.embgam')",
   "language": "python",
   "name": "python3"
  },
  "language_info": {
   "codemirror_mode": {
    "name": "ipython",
    "version": 3
   },
   "file_extension": ".py",
   "mimetype": "text/x-python",
   "name": "python",
   "nbconvert_exporter": "python",
   "pygments_lexer": "ipython3",
   "version": "3.8.10"
  },
  "orig_nbformat": 4,
  "vscode": {
   "interpreter": {
    "hash": "559535f78d940c882783b39501b2581b5193373045707e5f8a51d046029cfd38"
   }
  }
 },
 "nbformat": 4,
 "nbformat_minor": 2
}
