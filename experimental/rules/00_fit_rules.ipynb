{
 "cells": [
  {
   "cell_type": "code",
   "execution_count": 1,
   "metadata": {},
   "outputs": [
    {
     "name": "stderr",
     "output_type": "stream",
     "text": [
      "/home/chansingh/.embgam/lib/python3.8/site-packages/huggingface_hub/utils/_deprecation.py:97: FutureWarning: Deprecated argument(s) used in 'dataset_info': token. Will not be supported from version '0.12'.\n",
      "  warnings.warn(message, FutureWarning)\n",
      "Using custom data configuration default\n",
      "Found cached dataset sst2 (/home/chansingh/.cache/huggingface/datasets/sst2/default/2.0.0/9896208a8d85db057ac50c72282bcb8fe755accc671a57dd8059d4e130961ed5)\n"
     ]
    },
    {
     "data": {
      "application/vnd.jupyter.widget-view+json": {
       "model_id": "677279b97af240b4a988104b9cc40d15",
       "version_major": 2,
       "version_minor": 0
      },
      "text/plain": [
       "  0%|          | 0/3 [00:00<?, ?it/s]"
      ]
     },
     "metadata": {},
     "output_type": "display_data"
    }
   ],
   "source": [
    "%load_ext autoreload\n",
    "%autoreload 2\n",
    "%matplotlib inline\n",
    "from transformers import BertModel, DistilBertModel\n",
    "from transformers import pipeline\n",
    "from transformers import AutoTokenizer, AutoModelForSequenceClassification\n",
    "import datasets\n",
    "import numpy as np\n",
    "import os.path\n",
    "from datasets import load_from_disk\n",
    "import pickle as pkl\n",
    "from sklearn.linear_model import LogisticRegressionCV\n",
    "from collections import defaultdict\n",
    "from copy import deepcopy\n",
    "from tqdm import tqdm\n",
    "import dvu\n",
    "dvu.set_style()\n",
    "import sys\n",
    "from sklearn.feature_extraction.text import CountVectorizer\n",
    "import pandas as pd\n",
    "from os.path import join as oj\n",
    "import matplotlib.pyplot as plt\n",
    "from sklearn.tree import DecisionTreeClassifier\n",
    "from sklearn.tree import export_text\n",
    "from sklearn.model_selection import train_test_split\n",
    "from sklearn.model_selection import GridSearchCV\n",
    "import imodels\n",
    "pd.set_option('display.max_rows', None)\n",
    "\n",
    "# get sst2 subsampled\n",
    "dset = datasets.load_dataset('sst2')['train']\n",
    "dset = dset.select(np.random.choice(len(dset), size=500, replace=False))"
   ]
  },
  {
   "cell_type": "code",
   "execution_count": null,
   "metadata": {},
   "outputs": [],
   "source": [
    "v = CountVectorizer()\n",
    "X = v.fit_transform(dset['sentence'])\n",
    "y = dset['label']\n",
    "X_train, X_test, y_train, y_test = train_test_split(\n",
    "    X, y, test_size=0.33, random_state=42)\n",
    "X_train = X_train.todense()\n",
    "X_test = X_test.todense()\n",
    "feature_names = v.get_feature_names_out().tolist()"
   ]
  },
  {
   "cell_type": "code",
   "execution_count": null,
   "metadata": {},
   "outputs": [],
   "source": [
    "params_dt = {'max_leaf_nodes': [5]}\n",
    "dt_cv = GridSearchCV(DecisionTreeClassifier(), params_dt)\n",
    "params_rf = {'max_rules': [5]}\n",
    "rf_cv = imodels.RuleFitClassifier(**params_rf)\n",
    "clfs = {\n",
    "    'dt': dt_cv,\n",
    "    # 'logistic': LogisticRegressionCV(),\n",
    "    # 'figs': imodels.FIGSClassifierCV(),\n",
    "    'rulefit': rf_cv,\n",
    "}\n",
    "r = defaultdict(list)\n",
    "\n",
    "for k in clfs.keys():\n",
    "    clf = clfs[k]\n",
    "    try:\n",
    "        clf.fit(X_train, y_train, feature_names=feature_names)\n",
    "    except ValueError as e:\n",
    "        clf.fit(X_train, y_train)\n",
    "    r[k].append(clf.score(X_test, y_test))"
   ]
  },
  {
   "cell_type": "code",
   "execution_count": 48,
   "metadata": {},
   "outputs": [
    {
     "data": {
      "text/html": [
       "<div>\n",
       "<style scoped>\n",
       "    .dataframe tbody tr th:only-of-type {\n",
       "        vertical-align: middle;\n",
       "    }\n",
       "\n",
       "    .dataframe tbody tr th {\n",
       "        vertical-align: top;\n",
       "    }\n",
       "\n",
       "    .dataframe thead th {\n",
       "        text-align: right;\n",
       "    }\n",
       "</style>\n",
       "<table border=\"1\" class=\"dataframe\">\n",
       "  <thead>\n",
       "    <tr style=\"text-align: right;\">\n",
       "      <th></th>\n",
       "      <th>dt</th>\n",
       "      <th>rulefit</th>\n",
       "    </tr>\n",
       "  </thead>\n",
       "  <tbody>\n",
       "    <tr>\n",
       "      <th>0</th>\n",
       "      <td>0.545455</td>\n",
       "      <td>0.466667</td>\n",
       "    </tr>\n",
       "  </tbody>\n",
       "</table>\n",
       "</div>"
      ],
      "text/plain": [
       "         dt   rulefit\n",
       "0  0.545455  0.466667"
      ]
     },
     "execution_count": 48,
     "metadata": {},
     "output_type": "execute_result"
    }
   ],
   "source": [
    "pd.DataFrame.from_dict(r)"
   ]
  },
  {
   "cell_type": "code",
   "execution_count": 49,
   "metadata": {},
   "outputs": [
    {
     "name": "stdout",
     "output_type": "stream",
     "text": [
      "|--- much <= 0.50\n",
      "|   |--- than <= 0.50\n",
      "|   |   |--- hollywood <= 0.50\n",
      "|   |   |   |--- obvious <= 0.50\n",
      "|   |   |   |   |--- class: 1\n",
      "|   |   |   |--- obvious >  0.50\n",
      "|   |   |   |   |--- class: 0\n",
      "|   |   |--- hollywood >  0.50\n",
      "|   |   |   |--- class: 0\n",
      "|   |--- than >  0.50\n",
      "|   |   |--- class: 0\n",
      "|--- much >  0.50\n",
      "|   |--- class: 0\n",
      "\n"
     ]
    }
   ],
   "source": [
    "dt = clfs['dt'].best_estimator_\n",
    "print(export_text(dt, feature_names=feature_names))"
   ]
  },
  {
   "cell_type": "code",
   "execution_count": 50,
   "metadata": {},
   "outputs": [
    {
     "name": "stdout",
     "output_type": "stream",
     "text": [
      "> ------------------------------\n",
      "> RuleFit:\n",
      "> \tPredictions are made by summing the coefficients of each rule\n",
      "> ------------------------------\n",
      "                                                                                                                                                         rule  coef\n",
      "                                                                                                                                                   you <= 0.5 -0.16\n",
      "no <= 0.5 and one <= 0.5 and science <= 0.5 and script <= 0.5 and story <= 0.5 and than <= 0.5 and too <= 0.5 and fluke <= 0.5 and it <= 0.5 and lives <= 0.5  0.39\n",
      "                                                                                        much <= 0.5 and or <= 0.5 and be <= 0.5 and is <= 0.5 and long <= 0.5  0.13\n",
      "\n"
     ]
    }
   ],
   "source": [
    "# clfs['rulefit'].best_estimator_.feature_names = feature_names\n",
    "print(clfs['rulefit'])"
   ]
  },
  {
   "cell_type": "markdown",
   "metadata": {},
   "source": [
    "# Try LLM version"
   ]
  },
  {
   "cell_type": "code",
   "execution_count": null,
   "metadata": {},
   "outputs": [],
   "source": []
  }
 ],
 "metadata": {
  "kernelspec": {
   "display_name": "Python 3.8.10 ('.embgam')",
   "language": "python",
   "name": "python3"
  },
  "language_info": {
   "codemirror_mode": {
    "name": "ipython",
    "version": 3
   },
   "file_extension": ".py",
   "mimetype": "text/x-python",
   "name": "python",
   "nbconvert_exporter": "python",
   "pygments_lexer": "ipython3",
   "version": "3.8.10"
  },
  "vscode": {
   "interpreter": {
    "hash": "559535f78d940c882783b39501b2581b5193373045707e5f8a51d046029cfd38"
   }
  }
 },
 "nbformat": 4,
 "nbformat_minor": 4
}
