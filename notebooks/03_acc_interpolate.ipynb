{
 "cells": [
  {
   "cell_type": "code",
   "execution_count": 88,
   "metadata": {},
   "outputs": [
    {
     "name": "stdout",
     "output_type": "stream",
     "text": [
      "The autoreload extension is already loaded. To reload it, use:\n",
      "  %reload_ext autoreload\n"
     ]
    }
   ],
   "source": [
    "%load_ext autoreload\n",
    "%autoreload 2\n",
    "%matplotlib inline\n",
    "from transformers import AutoModel\n",
    "from transformers import pipeline\n",
    "from transformers import AutoTokenizer, AutoModelForSequenceClassification\n",
    "import datasets\n",
    "import numpy as np\n",
    "import os.path\n",
    "from datasets import load_from_disk\n",
    "import pickle as pkl\n",
    "from sklearn.linear_model import LogisticRegressionCV\n",
    "from collections import defaultdict\n",
    "from copy import deepcopy\n",
    "from tqdm import tqdm\n",
    "import dvu\n",
    "import torch\n",
    "dvu.set_style()\n",
    "import sys\n",
    "sys.path.append('..')\n",
    "import pandas as pd\n",
    "import analyze_helper\n",
    "from experiments import config\n",
    "from os.path import join as oj\n",
    "import matplotlib.pyplot as plt\n",
    "pd.set_option('display.max_rows', None)\n",
    "import embgam"
   ]
  },
  {
   "cell_type": "code",
   "execution_count": 89,
   "metadata": {},
   "outputs": [
    {
     "data": {
      "text/html": [
       "<div>\n",
       "<style scoped>\n",
       "    .dataframe tbody tr th:only-of-type {\n",
       "        vertical-align: middle;\n",
       "    }\n",
       "\n",
       "    .dataframe tbody tr th {\n",
       "        vertical-align: top;\n",
       "    }\n",
       "\n",
       "    .dataframe thead th {\n",
       "        text-align: right;\n",
       "    }\n",
       "</style>\n",
       "<table border=\"1\" class=\"dataframe\">\n",
       "  <thead>\n",
       "    <tr style=\"text-align: right;\">\n",
       "      <th></th>\n",
       "      <th>checkpoint</th>\n",
       "      <th>ngrams</th>\n",
       "      <th>ngrams_test</th>\n",
       "      <th>subsample</th>\n",
       "      <th>all</th>\n",
       "      <th>norm</th>\n",
       "      <th>dataset</th>\n",
       "      <th>seed</th>\n",
       "      <th>layer</th>\n",
       "      <th>parsing</th>\n",
       "      <th>ignore_cache</th>\n",
       "      <th>padding</th>\n",
       "      <th>num_features</th>\n",
       "      <th>acc_train</th>\n",
       "      <th>acc_val</th>\n",
       "    </tr>\n",
       "  </thead>\n",
       "  <tbody>\n",
       "    <tr>\n",
       "      <th>0</th>\n",
       "      <td>glove_wordvecs</td>\n",
       "      <td>1</td>\n",
       "      <td></td>\n",
       "      <td>-1</td>\n",
       "      <td></td>\n",
       "      <td></td>\n",
       "      <td>emotion</td>\n",
       "      <td>1</td>\n",
       "      <td>pooler_output</td>\n",
       "      <td></td>\n",
       "      <td>True</td>\n",
       "      <td>True</td>\n",
       "      <td>300</td>\n",
       "      <td>0.739563</td>\n",
       "      <td>0.732500</td>\n",
       "    </tr>\n",
       "    <tr>\n",
       "      <th>1</th>\n",
       "      <td>glove_wordvecs</td>\n",
       "      <td>1</td>\n",
       "      <td></td>\n",
       "      <td>-1</td>\n",
       "      <td></td>\n",
       "      <td></td>\n",
       "      <td>emotion</td>\n",
       "      <td>2</td>\n",
       "      <td>pooler_output</td>\n",
       "      <td></td>\n",
       "      <td>True</td>\n",
       "      <td>True</td>\n",
       "      <td>300</td>\n",
       "      <td>0.738500</td>\n",
       "      <td>0.729500</td>\n",
       "    </tr>\n",
       "    <tr>\n",
       "      <th>2</th>\n",
       "      <td>glove_wordvecs</td>\n",
       "      <td>1</td>\n",
       "      <td></td>\n",
       "      <td>-1</td>\n",
       "      <td></td>\n",
       "      <td></td>\n",
       "      <td>emotion</td>\n",
       "      <td>3</td>\n",
       "      <td>pooler_output</td>\n",
       "      <td></td>\n",
       "      <td>True</td>\n",
       "      <td>True</td>\n",
       "      <td>300</td>\n",
       "      <td>0.738625</td>\n",
       "      <td>0.731000</td>\n",
       "    </tr>\n",
       "    <tr>\n",
       "      <th>3</th>\n",
       "      <td>glove_wordvecs</td>\n",
       "      <td>1</td>\n",
       "      <td></td>\n",
       "      <td>100</td>\n",
       "      <td></td>\n",
       "      <td></td>\n",
       "      <td>emotion</td>\n",
       "      <td>1</td>\n",
       "      <td>pooler_output</td>\n",
       "      <td></td>\n",
       "      <td>True</td>\n",
       "      <td>True</td>\n",
       "      <td>300</td>\n",
       "      <td>0.743750</td>\n",
       "      <td>0.727500</td>\n",
       "    </tr>\n",
       "    <tr>\n",
       "      <th>0</th>\n",
       "      <td>glove_wordvecs</td>\n",
       "      <td>1</td>\n",
       "      <td></td>\n",
       "      <td>-1</td>\n",
       "      <td></td>\n",
       "      <td></td>\n",
       "      <td>financial_phrasebank</td>\n",
       "      <td>1</td>\n",
       "      <td>pooler_output</td>\n",
       "      <td></td>\n",
       "      <td>True</td>\n",
       "      <td>True</td>\n",
       "      <td>300</td>\n",
       "      <td>0.907047</td>\n",
       "      <td>0.804386</td>\n",
       "    </tr>\n",
       "  </tbody>\n",
       "</table>\n",
       "</div>"
      ],
      "text/plain": [
       "       checkpoint  ngrams ngrams_test  subsample all norm  \\\n",
       "0  glove_wordvecs       1                     -1            \n",
       "1  glove_wordvecs       1                     -1            \n",
       "2  glove_wordvecs       1                     -1            \n",
       "3  glove_wordvecs       1                    100            \n",
       "0  glove_wordvecs       1                     -1            \n",
       "\n",
       "                dataset  seed          layer parsing  ignore_cache  padding  \\\n",
       "0               emotion     1  pooler_output                  True     True   \n",
       "1               emotion     2  pooler_output                  True     True   \n",
       "2               emotion     3  pooler_output                  True     True   \n",
       "3               emotion     1  pooler_output                  True     True   \n",
       "0  financial_phrasebank     1  pooler_output                  True     True   \n",
       "\n",
       "   num_features  acc_train   acc_val  \n",
       "0           300   0.739563  0.732500  \n",
       "1           300   0.738500  0.729500  \n",
       "2           300   0.738625  0.731000  \n",
       "3           300   0.743750  0.727500  \n",
       "0           300   0.907047  0.804386  "
      ]
     },
     "execution_count": 89,
     "metadata": {},
     "output_type": "execute_result"
    }
   ],
   "source": [
    "# rs = data.load_fitted_results()\n",
    "# rs.to_pickle(oj(config.results_dir, 'fitted_results_aggregated.pkl'))\n",
    "\n",
    "rs = pd.read_pickle(oj(config.results_dir, 'fitted_results_aggregated.pkl'))\n",
    "rr, r_sem = analyze_helper.average_seeds(rs)\n",
    "rs.head()"
   ]
  },
  {
   "cell_type": "code",
   "execution_count": 90,
   "metadata": {},
   "outputs": [
    {
     "name": "stderr",
     "output_type": "stream",
     "text": [
      "/home/chansingh/.embgam/lib/python3.8/site-packages/huggingface_hub/utils/_deprecation.py:97: FutureWarning: Deprecated argument(s) used in 'dataset_info': token. Will not be supported from version '0.12'.\n",
      "  warnings.warn(message, FutureWarning)\n",
      "Using custom data configuration default\n",
      "Found cached dataset sst2 (/home/chansingh/.cache/huggingface/datasets/sst2/default/2.0.0/9896208a8d85db057ac50c72282bcb8fe755accc671a57dd8059d4e130961ed5)\n"
     ]
    },
    {
     "data": {
      "application/vnd.jupyter.widget-view+json": {
       "model_id": "621fd8b0d3b14c4a80e92ba24fb0e519",
       "version_major": 2,
       "version_minor": 0
      },
      "text/plain": [
       "  0%|          | 0/3 [00:00<?, ?it/s]"
      ]
     },
     "metadata": {},
     "output_type": "display_data"
    }
   ],
   "source": [
    "dset = 'sst2'\n",
    "dataset, dataset_key_text = embgam.data.process_data_and_args(dset)\n",
    "dval = dataset['validation']"
   ]
  },
  {
   "cell_type": "markdown",
   "metadata": {},
   "source": [
    "## Emb-GAM model"
   ]
  },
  {
   "cell_type": "code",
   "execution_count": 91,
   "metadata": {},
   "outputs": [
    {
     "name": "stderr",
     "output_type": "stream",
     "text": [
      "/home/chansingh/.embgam/lib/python3.8/site-packages/sklearn/base.py:329: UserWarning: Trying to unpickle estimator LogisticRegressionCV from version 0.24.2 when using version 1.1.2. This might lead to breaking code or invalid results. Use at your own risk. For more info please refer to:\n",
      "https://scikit-learn.org/stable/model_persistence.html#security-maintainability-limitations\n",
      "  warnings.warn(\n"
     ]
    }
   ],
   "source": [
    "row = pkl.load(open(oj(config.results_dir, 'sst_bert_finetuned_ngrams=2.pkl'), 'rb'))"
   ]
  },
  {
   "cell_type": "code",
   "execution_count": 97,
   "metadata": {},
   "outputs": [
    {
     "name": "stderr",
     "output_type": "stream",
     "text": [
      "Some weights of the model checkpoint at textattack/bert-base-uncased-SST-2 were not used when initializing BertModel: ['classifier.bias', 'classifier.weight']\n",
      "- This IS expected if you are initializing BertModel from the checkpoint of a model trained on another task or with another architecture (e.g. initializing a BertForSequenceClassification model from a BertForPreTraining model).\n",
      "- This IS NOT expected if you are initializing BertModel from the checkpoint of a model that you expect to be exactly identical (initializing a BertForSequenceClassification model from a BertForSequenceClassification model).\n"
     ]
    }
   ],
   "source": [
    "tokenizer = AutoTokenizer.from_pretrained(row.checkpoint) # for actually passing things to the model\n",
    "model = AutoModel.from_pretrained(row.checkpoint)\n",
    "logistic = row.model\n",
    "\n",
    "seqs = dval['sentence'] # ['not bad', 'not', 'very', 'good', 'not very', 'very good', 'not very good']\n",
    "device = 'cuda'\n",
    "tokens = tokenizer(seqs, padding=True, truncation=True, return_tensors=\"pt\").to(device)\n",
    "model = model.to(device)\n",
    "with torch.no_grad():\n",
    "    output = model(**tokens) # has two keys, 'last_hidden_state', 'pooler_output'\n",
    "embs = output[row.layer].cpu().detach().numpy()\n",
    "# pkl.dump(embs, open('../results/embs_sst_unigram_bigram.pkl', 'wb'))"
   ]
  },
  {
   "cell_type": "code",
   "execution_count": 98,
   "metadata": {},
   "outputs": [],
   "source": [
    "preds_proba = logistic.predict_proba(embs)\n",
    "preds = logistic.predict(embs)"
   ]
  },
  {
   "cell_type": "markdown",
   "metadata": {},
   "source": [
    "## DNN baseline"
   ]
  },
  {
   "cell_type": "code",
   "execution_count": 101,
   "metadata": {},
   "outputs": [
    {
     "data": {
      "application/vnd.jupyter.widget-view+json": {
       "model_id": "fb23709d5e4944bcb5e6e15ce894017c",
       "version_major": 2,
       "version_minor": 0
      },
      "text/plain": [
       "  0%|          | 0/872 [00:00<?, ?ex/s]"
      ]
     },
     "metadata": {},
     "output_type": "display_data"
    },
    {
     "name": "stderr",
     "output_type": "stream",
     "text": [
      "/home/chansingh/.embgam/lib/python3.8/site-packages/transformers/pipelines/base.py:1043: UserWarning: You seem to be using the pipelines sequentially on GPU. In order to maximize efficiency please use a dataset\n",
      "  warnings.warn(\n"
     ]
    }
   ],
   "source": [
    "checkpoints = {\n",
    "    'emotion': 'nateraw/bert-base-uncased-emotion',\n",
    "    'rotten_tomatoes': 'textattack/bert-base-uncased-rotten_tomatoes',\n",
    "    'financial_phrasebank': 'ahmedrachid/FinancialBERT-Sentiment-Analysis',\n",
    "    'sst2': 'textattack/bert-base-uncased-SST-2',\n",
    "}\n",
    "dnn = pipeline('text-classification', model=checkpoints[dset], device=0)\n",
    "def score(ex):\n",
    "    d = dnn(ex['sentence'])\n",
    "    return {'score': [out['score'] for out in d],\n",
    "            'label': [out['label'] for out in d]}\n",
    "dval_dnn = dval.map(score)"
   ]
  },
  {
   "cell_type": "code",
   "execution_count": 121,
   "metadata": {},
   "outputs": [],
   "source": [
    "preds_proba_dnn = np.array(dval_dnn['score']).flatten()\n",
    "pred_dnn = np.array(list(map(dnn.model.config.label2id.get,\n",
    "                             np.array(dval_dnn['label']).flatten())))"
   ]
  },
  {
   "cell_type": "markdown",
   "metadata": {},
   "source": [
    "## Look at joint performance "
   ]
  },
  {
   "cell_type": "code",
   "execution_count": 136,
   "metadata": {},
   "outputs": [
    {
     "name": "stdout",
     "output_type": "stream",
     "text": [
      "acc 0.805045871559633 acc_dnn 0.9243119266055045\n"
     ]
    }
   ],
   "source": [
    "labs = np.array(dataset['validation']['label'])\n",
    "acc = (preds == labs).mean()\n",
    "acc_dnn = np.mean(np.array(pred_dnn) == labs)\n",
    "n = labs.size\n",
    "print('acc', acc, 'acc_dnn', acc_dnn)"
   ]
  },
  {
   "cell_type": "code",
   "execution_count": 130,
   "metadata": {},
   "outputs": [],
   "source": [
    "args = np.argsort(np.abs(preds_proba.max(axis=1)))[::-1]\n",
    "accs_sorted = preds[args] == labs[args]\n",
    "accs_sorted_dnn = pred_dnn[args] == labs[args]\n",
    "num_correct_cum = np.cumsum(accs_sorted)\n",
    "num_correct_cum_dnn = np.cumsum(accs_sorted_dnn)"
   ]
  },
  {
   "cell_type": "code",
   "execution_count": 131,
   "metadata": {},
   "outputs": [
    {
     "data": {
      "image/png": "[encoded data removed]",
      "text/plain": [
       "<Figure size 640x480 with 1 Axes>"
      ]
     },
     "metadata": {},
     "output_type": "display_data"
    }
   ],
   "source": [
    "plt.plot(num_correct_cum / np.arange(1, len(accs_sorted) + 1))\n",
    "plt.plot(num_correct_cum_dnn / np.arange(1, len(accs_sorted_dnn) + 1))\n",
    "plt.ylabel('Cumulative acc')\n",
    "plt.xlabel('Number of examples (sorted by uncertainty')\n",
    "plt.show()"
   ]
  },
  {
   "cell_type": "code",
   "execution_count": 132,
   "metadata": {},
   "outputs": [],
   "source": [
    "num_correct_combined = num_correct_cum + (np.max(num_correct_cum_dnn) - num_correct_cum_dnn)"
   ]
  },
  {
   "cell_type": "code",
   "execution_count": 143,
   "metadata": {},
   "outputs": [
    {
     "data": {
      "image/png": "[encoded data removed]",
      "text/plain": [
       "<Figure size 640x480 with 1 Axes>"
      ]
     },
     "metadata": {},
     "output_type": "display_data"
    }
   ],
   "source": [
    "plt.plot(np.arange(n) / n * 100, num_correct_combined / n)\n",
    "plt.xlabel('Percentage of examples using Emb-GAM (%)')\n",
    "plt.ylabel('Validation accuracy')\n",
    "plt.show()"
   ]
  }
 ],
 "metadata": {
  "kernelspec": {
   "display_name": "Python 3.8.10 ('.embgam')",
   "language": "python",
   "name": "python3"
  },
  "language_info": {
   "codemirror_mode": {
    "name": "ipython",
    "version": 3
   },
   "file_extension": ".py",
   "mimetype": "text/x-python",
   "name": "python",
   "nbconvert_exporter": "python",
   "pygments_lexer": "ipython3",
   "version": "3.8.10"
  },
  "vscode": {
   "interpreter": {
    "hash": "559535f78d940c882783b39501b2581b5193373045707e5f8a51d046029cfd38"
   }
  }
 },
 "nbformat": 4,
 "nbformat_minor": 4
}
