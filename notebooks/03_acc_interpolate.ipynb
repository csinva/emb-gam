{
 "cells": [
  {
   "cell_type": "code",
   "execution_count": 1,
   "metadata": {},
   "outputs": [],
   "source": [
    "%load_ext autoreload\n",
    "%autoreload 2\n",
    "%matplotlib inline\n",
    "from transformers import AutoModel\n",
    "from transformers import pipeline\n",
    "from transformers import AutoTokenizer, AutoModelForSequenceClassification\n",
    "import datasets\n",
    "import numpy as np\n",
    "import os.path\n",
    "from datasets import load_from_disk\n",
    "import pickle as pkl\n",
    "from sklearn.linear_model import LogisticRegressionCV\n",
    "from collections import defaultdict\n",
    "from copy import deepcopy\n",
    "from tqdm import tqdm\n",
    "import dvu\n",
    "import torch\n",
    "from spacy.lang.en import English\n",
    "dvu.set_style()\n",
    "import sys\n",
    "sys.path.append('..')\n",
    "import pandas as pd\n",
    "from functools import partial\n",
    "from embgam import analyze_helper\n",
    "from embgam import config\n",
    "from os.path import join as oj\n",
    "import matplotlib.pyplot as plt\n",
    "pd.set_option('display.max_rows', None)\n",
    "import embgam"
   ]
  },
  {
   "cell_type": "markdown",
   "metadata": {},
   "source": [
    "# Calculate interpolation stuff"
   ]
  },
  {
   "cell_type": "code",
   "execution_count": 2,
   "metadata": {},
   "outputs": [
    {
     "name": "stderr",
     "output_type": "stream",
     "text": [
      "  0%|          | 0/4 [00:00<?, ?it/s]Found cached dataset financial_phrasebank (/home/chansingh/.cache/huggingface/datasets/financial_phrasebank/sentences_75agree/1.0.0/550bde12e6c30e2674da973a55f57edde5181d53f5a5a34c1531c53f93b7e141)\n",
      "/home/chansingh/.llm/lib/python3.9/site-packages/sklearn/base.py:299: UserWarning: Trying to unpickle estimator LogisticRegressionCV from version 0.24.2 when using version 1.2.1. This might lead to breaking code or invalid results. Use at your own risk. For more info please refer to:\n",
      "https://scikit-learn.org/stable/model_persistence.html#security-maintainability-limitations\n",
      "  warnings.warn(\n",
      "Some weights of the model checkpoint at ahmedrachid/FinancialBERT-Sentiment-Analysis were not used when initializing BertModel: ['classifier.weight', 'classifier.bias']\n",
      "- This IS expected if you are initializing BertModel from the checkpoint of a model trained on another task or with another architecture (e.g. initializing a BertForSequenceClassification model from a BertForPreTraining model).\n",
      "- This IS NOT expected if you are initializing BertModel from the checkpoint of a model that you expect to be exactly identical (initializing a BertForSequenceClassification model from a BertForSequenceClassification model).\n"
     ]
    },
    {
     "data": {
      "application/vnd.jupyter.widget-view+json": {
       "model_id": "7e7aa24532f84eb5a08c7c68a2be1536",
       "version_major": 2,
       "version_minor": 0
      },
      "text/plain": [
       "  0%|          | 0/1140 [00:00<?, ?ex/s]"
      ]
     },
     "metadata": {},
     "output_type": "display_data"
    },
    {
     "data": {
      "application/vnd.jupyter.widget-view+json": {
       "model_id": "a5302a4084e54bf9b918799afdcd94ac",
       "version_major": 2,
       "version_minor": 0
      },
      "text/plain": [
       "  0%|          | 0/1140 [00:00<?, ?ex/s]"
      ]
     },
     "metadata": {},
     "output_type": "display_data"
    },
    {
     "name": "stderr",
     "output_type": "stream",
     "text": [
      "/home/chansingh/.llm/lib/python3.9/site-packages/transformers/pipelines/base.py:1045: UserWarning: You seem to be using the pipelines sequentially on GPU. In order to maximize efficiency please use a dataset\n",
      "  warnings.warn(\n",
      " 25%|██▌       | 1/4 [00:52<02:37, 52.41s/it]"
     ]
    },
    {
     "name": "stdout",
     "output_type": "stream",
     "text": [
      "acc 0.9219298245614035 acc_dnn 0.980701754385965\n"
     ]
    },
    {
     "name": "stderr",
     "output_type": "stream",
     "text": [
      "Found cached dataset rotten_tomatoes (/home/chansingh/.cache/huggingface/datasets/rotten_tomatoes/default/1.0.0/40d411e45a6ce3484deed7cc15b82a53dad9a72aafd9f86f8f227134bec5ca46)\n"
     ]
    },
    {
     "data": {
      "application/vnd.jupyter.widget-view+json": {
       "model_id": "5eb2e124e96f48888235e3bf95a87e5e",
       "version_major": 2,
       "version_minor": 0
      },
      "text/plain": [
       "  0%|          | 0/3 [00:00<?, ?it/s]"
      ]
     },
     "metadata": {},
     "output_type": "display_data"
    },
    {
     "name": "stderr",
     "output_type": "stream",
     "text": [
      "/home/chansingh/.llm/lib/python3.9/site-packages/sklearn/base.py:299: UserWarning: Trying to unpickle estimator LogisticRegressionCV from version 0.24.2 when using version 1.2.1. This might lead to breaking code or invalid results. Use at your own risk. For more info please refer to:\n",
      "https://scikit-learn.org/stable/model_persistence.html#security-maintainability-limitations\n",
      "  warnings.warn(\n",
      "Some weights of the model checkpoint at textattack/bert-base-uncased-rotten_tomatoes were not used when initializing BertModel: ['classifier.weight', 'classifier.bias']\n",
      "- This IS expected if you are initializing BertModel from the checkpoint of a model trained on another task or with another architecture (e.g. initializing a BertForSequenceClassification model from a BertForPreTraining model).\n",
      "- This IS NOT expected if you are initializing BertModel from the checkpoint of a model that you expect to be exactly identical (initializing a BertForSequenceClassification model from a BertForSequenceClassification model).\n"
     ]
    },
    {
     "data": {
      "application/vnd.jupyter.widget-view+json": {
       "model_id": "978f7d6f18c642b580f29fe06e22998b",
       "version_major": 2,
       "version_minor": 0
      },
      "text/plain": [
       "  0%|          | 0/1066 [00:00<?, ?ex/s]"
      ]
     },
     "metadata": {},
     "output_type": "display_data"
    },
    {
     "data": {
      "application/vnd.jupyter.widget-view+json": {
       "model_id": "9d519ee4e87a4d919172685ffe9ab093",
       "version_major": 2,
       "version_minor": 0
      },
      "text/plain": [
       "  0%|          | 0/1066 [00:00<?, ?ex/s]"
      ]
     },
     "metadata": {},
     "output_type": "display_data"
    },
    {
     "name": "stderr",
     "output_type": "stream",
     "text": [
      "/home/chansingh/.llm/lib/python3.9/site-packages/transformers/pipelines/base.py:1045: UserWarning: You seem to be using the pipelines sequentially on GPU. In order to maximize efficiency please use a dataset\n",
      "  warnings.warn(\n",
      " 50%|█████     | 2/4 [01:27<01:23, 41.94s/it]"
     ]
    },
    {
     "name": "stdout",
     "output_type": "stream",
     "text": [
      "acc 0.8133208255159474 acc_dnn 0.875234521575985\n"
     ]
    },
    {
     "name": "stderr",
     "output_type": "stream",
     "text": [
      "Found cached dataset sst2 (/home/chansingh/.cache/huggingface/datasets/sst2/default/2.0.0/9896208a8d85db057ac50c72282bcb8fe755accc671a57dd8059d4e130961ed5)\n"
     ]
    },
    {
     "data": {
      "application/vnd.jupyter.widget-view+json": {
       "model_id": "7541d8042ffd4235a5f0fd35172e4822",
       "version_major": 2,
       "version_minor": 0
      },
      "text/plain": [
       "  0%|          | 0/3 [00:00<?, ?it/s]"
      ]
     },
     "metadata": {},
     "output_type": "display_data"
    },
    {
     "name": "stderr",
     "output_type": "stream",
     "text": [
      "/home/chansingh/.llm/lib/python3.9/site-packages/sklearn/base.py:299: UserWarning: Trying to unpickle estimator LogisticRegressionCV from version 0.24.2 when using version 1.2.1. This might lead to breaking code or invalid results. Use at your own risk. For more info please refer to:\n",
      "https://scikit-learn.org/stable/model_persistence.html#security-maintainability-limitations\n",
      "  warnings.warn(\n",
      "Some weights of the model checkpoint at textattack/bert-base-uncased-SST-2 were not used when initializing BertModel: ['classifier.weight', 'classifier.bias']\n",
      "- This IS expected if you are initializing BertModel from the checkpoint of a model trained on another task or with another architecture (e.g. initializing a BertForSequenceClassification model from a BertForPreTraining model).\n",
      "- This IS NOT expected if you are initializing BertModel from the checkpoint of a model that you expect to be exactly identical (initializing a BertForSequenceClassification model from a BertForSequenceClassification model).\n"
     ]
    },
    {
     "data": {
      "application/vnd.jupyter.widget-view+json": {
       "model_id": "300467bdb9c14add98938e704462ca10",
       "version_major": 2,
       "version_minor": 0
      },
      "text/plain": [
       "  0%|          | 0/872 [00:00<?, ?ex/s]"
      ]
     },
     "metadata": {},
     "output_type": "display_data"
    },
    {
     "data": {
      "application/vnd.jupyter.widget-view+json": {
       "model_id": "6c998a294dcd46e19ac5d741392cf8b6",
       "version_major": 2,
       "version_minor": 0
      },
      "text/plain": [
       "  0%|          | 0/872 [00:00<?, ?ex/s]"
      ]
     },
     "metadata": {},
     "output_type": "display_data"
    },
    {
     "name": "stderr",
     "output_type": "stream",
     "text": [
      "/home/chansingh/.llm/lib/python3.9/site-packages/transformers/pipelines/base.py:1045: UserWarning: You seem to be using the pipelines sequentially on GPU. In order to maximize efficiency please use a dataset\n",
      "  warnings.warn(\n",
      " 75%|███████▌  | 3/4 [02:00<00:38, 38.30s/it]"
     ]
    },
    {
     "name": "stdout",
     "output_type": "stream",
     "text": [
      "acc 0.8704128440366973 acc_dnn 0.9243119266055045\n"
     ]
    },
    {
     "name": "stderr",
     "output_type": "stream",
     "text": [
      "No config specified, defaulting to: emotion/split\n",
      "Found cached dataset emotion (/home/chansingh/.cache/huggingface/datasets/emotion/split/1.0.0/cca5efe2dfeb58c1d098e0f9eeb200e9927d889b5a03c67097275dfb5fe463bd)\n"
     ]
    },
    {
     "data": {
      "application/vnd.jupyter.widget-view+json": {
       "model_id": "e8aa4d3d4d9e4767845ecd5781f0396a",
       "version_major": 2,
       "version_minor": 0
      },
      "text/plain": [
       "  0%|          | 0/3 [00:00<?, ?it/s]"
      ]
     },
     "metadata": {},
     "output_type": "display_data"
    },
    {
     "name": "stderr",
     "output_type": "stream",
     "text": [
      "/home/chansingh/.llm/lib/python3.9/site-packages/sklearn/base.py:299: UserWarning: Trying to unpickle estimator LogisticRegressionCV from version 0.24.2 when using version 1.2.1. This might lead to breaking code or invalid results. Use at your own risk. For more info please refer to:\n",
      "https://scikit-learn.org/stable/model_persistence.html#security-maintainability-limitations\n",
      "  warnings.warn(\n",
      "Some weights of the model checkpoint at nateraw/bert-base-uncased-emotion were not used when initializing BertModel: ['classifier.weight', 'classifier.bias']\n",
      "- This IS expected if you are initializing BertModel from the checkpoint of a model trained on another task or with another architecture (e.g. initializing a BertForSequenceClassification model from a BertForPreTraining model).\n",
      "- This IS NOT expected if you are initializing BertModel from the checkpoint of a model that you expect to be exactly identical (initializing a BertForSequenceClassification model from a BertForSequenceClassification model).\n"
     ]
    },
    {
     "data": {
      "application/vnd.jupyter.widget-view+json": {
       "model_id": "9ba60642b3c64a4ebd87a35d0d4a45cb",
       "version_major": 2,
       "version_minor": 0
      },
      "text/plain": [
       "  0%|          | 0/2000 [00:00<?, ?ex/s]"
      ]
     },
     "metadata": {},
     "output_type": "display_data"
    },
    {
     "data": {
      "application/vnd.jupyter.widget-view+json": {
       "model_id": "d34b86a6d47a4c7c90ed2952536141e6",
       "version_major": 2,
       "version_minor": 0
      },
      "text/plain": [
       "  0%|          | 0/2000 [00:00<?, ?ex/s]"
      ]
     },
     "metadata": {},
     "output_type": "display_data"
    },
    {
     "name": "stderr",
     "output_type": "stream",
     "text": [
      "/home/chansingh/.llm/lib/python3.9/site-packages/transformers/pipelines/base.py:1045: UserWarning: You seem to be using the pipelines sequentially on GPU. In order to maximize efficiency please use a dataset\n",
      "  warnings.warn(\n",
      "100%|██████████| 4/4 [02:58<00:00, 44.64s/it]"
     ]
    },
    {
     "name": "stdout",
     "output_type": "stream",
     "text": [
      "acc 0.8985 acc_dnn 0.9365\n"
     ]
    },
    {
     "name": "stderr",
     "output_type": "stream",
     "text": [
      "\n"
     ]
    }
   ],
   "source": [
    "dsets = ['financial_phrasebank', 'rotten_tomatoes', 'sst2', 'emotion']\n",
    "out = defaultdict(list)\n",
    "for dset in tqdm(dsets):\n",
    "    # get data\n",
    "    dataset, dataset_key_text = embgam.data.process_data_and_args(dset)\n",
    "    dval = dataset['validation']\n",
    "\n",
    "    # load embgam model #####################################################\n",
    "    embgam_checkpoints = {\n",
    "        # 'tweet_eval': 'results/best___ngram=2_sub=-1_philschmid-BERT-tweet-eval-emotion__last_hidden_state_mean__1-all.pkl',\n",
    "        'rotten_tomatoes': 'results/best___ngram=5_sub=-1_textattack-bert-base-uncased-rotten_tomatoes__2-all.pkl',\n",
    "        'emotion': 'results/best___ngram=6_sub=-1_nateraw-bert-base-uncased-emotion__2-all.pkl',\n",
    "        'financial_phrasebank': 'results/best___ngram=7_sub=-1_ahmedrachid-FinancialBERT-Sentiment-Analysis__3-all.pkl',\n",
    "        'sst2': 'results/best___ngram=7_sub=-1_textattack-bert-base-uncased-SST-2__3-all.pkl',\n",
    "    }\n",
    "    row = pd.Series(\n",
    "        pkl.load(open(oj(config.repo_dir, embgam_checkpoints[dset]), 'rb')))\n",
    "    model = AutoModel.from_pretrained(row.checkpoint).to('cuda')\n",
    "    logistic = row.model\n",
    "    tokenizer_ngrams = English().tokenizer  # for our word-finding\n",
    "    tokenizer_embeddings = AutoTokenizer.from_pretrained(row.checkpoint)\n",
    "\n",
    "    # get embeddings\n",
    "    embed_and_sum = partial(\n",
    "        embgam.embed.embed_and_sum_function,\n",
    "        model=model,\n",
    "        ngrams=row.ngrams,\n",
    "        tokenizer_embeddings=tokenizer_embeddings,\n",
    "        tokenizer_ngrams=tokenizer_ngrams,\n",
    "        checkpoint=row.checkpoint,\n",
    "        dataset_key_text=dataset_key_text,\n",
    "        layer=row.layer,\n",
    "        all_ngrams=row.all,\n",
    "    )\n",
    "    embedded_dataset = dval.map(embed_and_sum)  # , batched=True)\n",
    "    embs = np.array(embedded_dataset['embs']).squeeze()\n",
    "\n",
    "    # get embgam preds\n",
    "    preds_proba = logistic.predict_proba(embs)\n",
    "    preds = logistic.predict(embs)\n",
    "\n",
    "    # dnn baseline #####################################################\n",
    "    checkpoints = {\n",
    "        'emotion': 'nateraw/bert-base-uncased-emotion',\n",
    "        'rotten_tomatoes': 'textattack/bert-base-uncased-rotten_tomatoes',\n",
    "        'financial_phrasebank': 'ahmedrachid/FinancialBERT-Sentiment-Analysis',\n",
    "        'sst2': 'textattack/bert-base-uncased-SST-2',\n",
    "    }\n",
    "    dnn = pipeline('text-classification', model=checkpoints[dset], device=0)\n",
    "\n",
    "    def score(ex):\n",
    "        d = dnn(ex[dataset_key_text])\n",
    "        return {'score': [out['score'] for out in d],\n",
    "                'label': [out['label'] for out in d]}\n",
    "    dval_dnn = dval.map(score)\n",
    "\n",
    "    preds_proba_dnn = np.array(dval_dnn['score']).flatten()\n",
    "    pred_dnn = np.array(list(map(dnn.model.config.label2id.get,\n",
    "                                 np.array(dval_dnn['label']).flatten())))\n",
    "\n",
    "    # get acc\n",
    "    labs = np.array(dataset['validation']['label'])\n",
    "    acc = (preds == labs).mean()\n",
    "    acc_dnn = np.mean(np.array(pred_dnn) == labs)\n",
    "    n = labs.size\n",
    "    print('acc', acc, 'acc_dnn', acc_dnn)\n",
    "\n",
    "    # get joint performance\n",
    "    args = np.argsort(np.abs(preds_proba.max(axis=1)))[::-1]\n",
    "    accs_sorted = preds[args] == labs[args]\n",
    "    accs_sorted_dnn = pred_dnn[args] == labs[args]\n",
    "    num_correct_cum = np.cumsum(accs_sorted)\n",
    "    num_correct_cum_dnn = np.cumsum(accs_sorted_dnn)\n",
    "    num_correct_combined = num_correct_cum + \\\n",
    "        (np.max(num_correct_cum_dnn) - num_correct_cum_dnn)\n",
    "\n",
    "    out['dset'].append(dset)\n",
    "    out['acc'].append(acc)\n",
    "    out['acc_dnn'].append(acc_dnn)\n",
    "    out['num_correct_cum'].append(num_correct_cum)\n",
    "    out['num_correct_cum_dnn'].append(num_correct_cum_dnn)\n",
    "    out['num_correct_combined'].append(num_correct_combined)\n",
    "    pkl.dump(out, open(oj(config.repo_dir, 'results/acc_interpolate.pkl'), 'wb'))"
   ]
  },
  {
   "attachments": {},
   "cell_type": "markdown",
   "metadata": {},
   "source": [
    "# Plot results"
   ]
  },
  {
   "cell_type": "code",
   "execution_count": 3,
   "metadata": {},
   "outputs": [],
   "source": [
    "out = pkl.load(open(oj(config.repo_dir, 'results/acc_interpolate.pkl'), 'rb'))"
   ]
  },
  {
   "cell_type": "code",
   "execution_count": 5,
   "metadata": {},
   "outputs": [
    {
     "data": {
      "image/png": "[encoded data removed]",
      "text/plain": [
       "<Figure size 700x300 with 1 Axes>"
      ]
     },
     "metadata": {},
     "output_type": "display_data"
    },
    {
     "name": "stdout",
     "output_type": "stream",
     "text": [
      "acc drops [0.007017543859649145, 0.0065666041275798115, 0.0034403669724770714, 0.0044999999999999485] 0.5381128739926494\n"
     ]
    }
   ],
   "source": [
    "dsets = out['dset']\n",
    "acc_drops = []\n",
    "plt.figure(figsize=(7, 3))\n",
    "for i, dset in enumerate(dsets):\n",
    "    num_correct_combined = out['num_correct_combined'][i]\n",
    "    n = num_correct_combined.size\n",
    "    plt.plot(np.arange(n) / n * 100, num_correct_combined / n, lw=2, label=analyze_helper.DSETS_RENAME_DICT[dset])\n",
    "    drop = out['acc_dnn'][i] - num_correct_combined[n // 2] / n\n",
    "    acc_drops.append(drop)\n",
    "    plt.xlabel('Percentage of samples predicted with Aug-GAM (%)\\n(Remaining samples are predicted with Finetuned BERT)', fontsize='large')\n",
    "    plt.ylabel('Validation accuracy\\n(over entire dataset)', fontsize='large')\n",
    "plt.xticks(np.arange(0, 101, 10))\n",
    "plt.grid()    \n",
    "# plt.legend(bbox_to_anchor=(1.02, 0.6), fontsize='large') #, loc='upper left')\n",
    "dvu.line_legend()\n",
    "plt.tight_layout()\n",
    "plt.savefig('acc_interpolate.pdf', bbox_inches='tight')\n",
    "plt.show()\n",
    "print('acc drops', acc_drops, 100 * np.array(acc_drops).mean())"
   ]
  },
  {
   "cell_type": "code",
   "execution_count": null,
   "metadata": {},
   "outputs": [],
   "source": [
    "dsets = out['dset']\n",
    "prop_cycle = plt.rcParams['axes.prop_cycle']\n",
    "cs = prop_cycle.by_key()['color']\n",
    "\n",
    "for i, dset in enumerate(dsets):\n",
    "    num_correct_cum = out['num_correct_cum'][i]\n",
    "    num_correct_cum_dnn = out['num_correct_cum_dnn'][i]\n",
    "    n = num_correct_cum.size\n",
    "    x = np.arange(1, n + 1)\n",
    "    plt.plot(x/n * 100, num_correct_cum_dnn / x, ls='--', lw=2, label='BERT ' + analyze_helper.DSETS_RENAME_DICT[dset], color=cs[i])\n",
    "    plt.plot(x/n * 100, num_correct_cum / x, lw=2, label=\"Emb-GAM \" + analyze_helper.DSETS_RENAME_DICT[dset], color=cs[i])\n",
    "    plt.ylabel('Cumulative acc', fontsize='large')\n",
    "    plt.xlabel('Percentage of samples %\\n(sorted by uncertainty)', fontsize='large')\n",
    "plt.grid()    \n",
    "plt.legend(bbox_to_anchor=(1.02, 0.9), fontsize='large') #, loc='upper left')\n",
    "plt.savefig('acc_calibration.pdf', bbox_inches='tight')\n",
    "plt.show()"
   ]
  }
 ],
 "metadata": {
  "kernelspec": {
   "display_name": ".llm",
   "language": "python",
   "name": "python3"
  },
  "language_info": {
   "codemirror_mode": {
    "name": "ipython",
    "version": 3
   },
   "file_extension": ".py",
   "mimetype": "text/x-python",
   "name": "python",
   "nbconvert_exporter": "python",
   "pygments_lexer": "ipython3",
   "version": "3.9.5"
  },
  "vscode": {
   "interpreter": {
    "hash": "a9ff692d44ea03fd8a03facee7621117bbbb82def09bacaacf0a2cbc238b7b91"
   }
  }
 },
 "nbformat": 4,
 "nbformat_minor": 4
}
