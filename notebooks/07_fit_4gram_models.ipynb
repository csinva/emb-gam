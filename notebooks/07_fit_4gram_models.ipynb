{
 "cells": [
  {
   "cell_type": "code",
   "execution_count": 5,
   "metadata": {},
   "outputs": [],
   "source": [
    "from imodelsx import EmbGAMClassifier\n",
    "import datasets\n",
    "import numpy as np\n",
    "\n",
    "from embgam import data\n",
    "import pickle as pkl"
   ]
  },
  {
   "cell_type": "markdown",
   "metadata": {},
   "source": [
    "# Fit the models"
   ]
  },
  {
   "cell_type": "code",
   "execution_count": 6,
   "metadata": {},
   "outputs": [
    {
     "name": "stderr",
     "output_type": "stream",
     "text": [
      "/home/chansingh/.embgam/lib/python3.8/site-packages/huggingface_hub/utils/_deprecation.py:97: FutureWarning: Deprecated argument(s) used in 'dataset_info': token. Will not be supported from version '0.12'.\n",
      "  warnings.warn(message, FutureWarning)\n",
      "Using custom data configuration default\n",
      "Found cached dataset sst2 (/home/chansingh/.cache/huggingface/datasets/sst2/default/2.0.0/9896208a8d85db057ac50c72282bcb8fe755accc671a57dd8059d4e130961ed5)\n"
     ]
    },
    {
     "data": {
      "application/vnd.jupyter.widget-view+json": {
       "model_id": "5edcb69089f846f69fd42c7843490d43",
       "version_major": 2,
       "version_minor": 0
      },
      "text/plain": [
       "  0%|          | 0/3 [00:00<?, ?it/s]"
      ]
     },
     "metadata": {},
     "output_type": "display_data"
    },
    {
     "name": "stderr",
     "output_type": "stream",
     "text": [
      "Using custom data configuration default\n",
      "Found cached dataset sst2 (/home/chansingh/.cache/huggingface/datasets/sst2/default/2.0.0/9896208a8d85db057ac50c72282bcb8fe755accc671a57dd8059d4e130961ed5)\n"
     ]
    },
    {
     "data": {
      "application/vnd.jupyter.widget-view+json": {
       "model_id": "9cd898d6c7424fe79b3a69d69a37747a",
       "version_major": 2,
       "version_minor": 0
      },
      "text/plain": [
       "  0%|          | 0/3 [00:00<?, ?it/s]"
      ]
     },
     "metadata": {},
     "output_type": "display_data"
    },
    {
     "name": "stderr",
     "output_type": "stream",
     "text": [
      "Using custom data configuration default\n",
      "Found cached dataset sst2 (/home/chansingh/.cache/huggingface/datasets/sst2/default/2.0.0/9896208a8d85db057ac50c72282bcb8fe755accc671a57dd8059d4e130961ed5)\n"
     ]
    },
    {
     "data": {
      "application/vnd.jupyter.widget-view+json": {
       "model_id": "6cedc0fd66af44a7b84816d22d53344a",
       "version_major": 2,
       "version_minor": 0
      },
      "text/plain": [
       "  0%|          | 0/3 [00:00<?, ?it/s]"
      ]
     },
     "metadata": {},
     "output_type": "display_data"
    },
    {
     "name": "stdout",
     "output_type": "stream",
     "text": [
      "initializing model...\n"
     ]
    },
    {
     "name": "stderr",
     "output_type": "stream",
     "text": [
      "Some weights of the model checkpoint at textattack/bert-base-uncased-SST-2 were not used when initializing BertModel: ['classifier.weight', 'classifier.bias']\n",
      "- This IS expected if you are initializing BertModel from the checkpoint of a model trained on another task or with another architecture (e.g. initializing a BertForSequenceClassification model from a BertForPreTraining model).\n",
      "- This IS NOT expected if you are initializing BertModel from the checkpoint of a model that you expect to be exactly identical (initializing a BertForSequenceClassification model from a BertForSequenceClassification model).\n"
     ]
    },
    {
     "name": "stdout",
     "output_type": "stream",
     "text": [
      "calculating embeddings...\n"
     ]
    },
    {
     "name": "stderr",
     "output_type": "stream",
     "text": [
      " 11%|█         | 7088/67349 [01:07<08:57, 112.09it/s]"
     ]
    }
   ],
   "source": [
    "dsets = {\n",
    "    'sst2': 'textattack/bert-base-uncased-SST-2',\n",
    "    'emotion': 'nateraw/bert-base-uncased-emotion',\n",
    "    'rotten_tomatoes': 'textattack/bert-base-uncased-rotten_tomatoes',\n",
    "    'financial_phrasebank': 'ahmedrachid/FinancialBERT-Sentiment-Analysis',\n",
    "}\n",
    "\n",
    "for dataset in dsets.keys():\n",
    "    checkpoint = dsets[dataset]\n",
    "\n",
    "    # set up data\n",
    "    dset, dataset_key_text = data.process_data_and_args(dataset)\n",
    "    dset = datasets.load_dataset(dataset)['train']\n",
    "    dset_val = datasets.load_dataset(dataset)['validation']\n",
    "\n",
    "    # fit model\n",
    "    m = EmbGAMClassifier(\n",
    "        checkpoint=checkpoint,\n",
    "        ngrams=4,\n",
    "    )\n",
    "    m.fit(dset[dataset_key_text], dset['label'])\n",
    "    pkl.dump(m, open(f'../results/4gram_{dataset}_imodelsx.pkl', 'wb'))\n",
    "\n",
    "    # predict\n",
    "    preds = m.predict(dset_val[dataset_key_text])\n",
    "    print('acc_val', np.mean(preds == dset_val['label']))\n",
    "\n",
    "    # interpret\n",
    "    print('Total ngram coefficients: ', len(m.coefs_dict_))\n",
    "    print('Most positive ngrams')\n",
    "    for k, v in sorted(m.coefs_dict_.items(), key=lambda item: item[1], reverse=True)[:8]:\n",
    "        print('\\t', k, round(v, 2))\n",
    "    print('Most negative ngrams')\n",
    "    for k, v in sorted(m.coefs_dict_.items(), key=lambda item: item[1])[:8]:\n",
    "        print('\\t', k, round(v, 2))"
   ]
  }
 ],
 "metadata": {
  "kernelspec": {
   "display_name": "Python 3.8.10 ('.embgam')",
   "language": "python",
   "name": "python3"
  },
  "language_info": {
   "codemirror_mode": {
    "name": "ipython",
    "version": 3
   },
   "file_extension": ".py",
   "mimetype": "text/x-python",
   "name": "python",
   "nbconvert_exporter": "python",
   "pygments_lexer": "ipython3",
   "version": "3.8.10"
  },
  "vscode": {
   "interpreter": {
    "hash": "559535f78d940c882783b39501b2581b5193373045707e5f8a51d046029cfd38"
   }
  }
 },
 "nbformat": 4,
 "nbformat_minor": 4
}
